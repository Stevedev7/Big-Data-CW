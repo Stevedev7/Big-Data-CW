{
 "cells": [
  {
   "cell_type": "markdown",
   "metadata": {},
   "source": [
    "# Import packages"
   ]
  },
  {
   "cell_type": "code",
   "execution_count": 1,
   "metadata": {},
   "outputs": [],
   "source": [
    "import pandas as pd\n",
    "import numpy as np"
   ]
  },
  {
   "cell_type": "markdown",
   "metadata": {},
   "source": [
    "# Read dataset\n",
    "### Read dataset into dataframes and display the 1st 5 rows"
   ]
  },
  {
   "cell_type": "code",
   "execution_count": 2,
   "metadata": {},
   "outputs": [
    {
     "data": {
      "text/html": [
       "<div>\n",
       "<style scoped>\n",
       "    .dataframe tbody tr th:only-of-type {\n",
       "        vertical-align: middle;\n",
       "    }\n",
       "\n",
       "    .dataframe tbody tr th {\n",
       "        vertical-align: top;\n",
       "    }\n",
       "\n",
       "    .dataframe thead th {\n",
       "        text-align: right;\n",
       "    }\n",
       "</style>\n",
       "<table border=\"1\" class=\"dataframe\">\n",
       "  <thead>\n",
       "    <tr style=\"text-align: right;\">\n",
       "      <th></th>\n",
       "      <th>BOROUGH</th>\n",
       "      <th>NEIGHBORHOOD</th>\n",
       "      <th>BUILDING CLASS CATEGORY</th>\n",
       "      <th>TAX CLASS AT PRESENT</th>\n",
       "      <th>BLOCK</th>\n",
       "      <th>LOT</th>\n",
       "      <th>EASE-MENT</th>\n",
       "      <th>BUILDING CLASS AT PRESENT</th>\n",
       "      <th>ADDRESS</th>\n",
       "      <th>APART\\nMENT\\nNUMBER</th>\n",
       "      <th>ZIP CODE</th>\n",
       "      <th>RESIDENTIAL UNITS</th>\n",
       "      <th>COMMERCIAL UNITS</th>\n",
       "      <th>TOTAL UNITS</th>\n",
       "      <th>LAND SQUARE FEET</th>\n",
       "      <th>GROSS SQUARE FEET</th>\n",
       "      <th>YEAR BUILT</th>\n",
       "      <th>TAX CLASS AT TIME OF SALE</th>\n",
       "      <th>BUILDING CLASS AT TIME OF SALE</th>\n",
       "      <th>SALE\\nPRICE</th>\n",
       "      <th>SALE DATE</th>\n",
       "    </tr>\n",
       "  </thead>\n",
       "  <tbody>\n",
       "    <tr>\n",
       "      <th>0</th>\n",
       "      <td>1</td>\n",
       "      <td></td>\n",
       "      <td>13  CONDOS - ELEVATOR APARTMENTS</td>\n",
       "      <td></td>\n",
       "      <td>738</td>\n",
       "      <td>1306</td>\n",
       "      <td></td>\n",
       "      <td></td>\n",
       "      <td>345 WEST 14TH   STREET</td>\n",
       "      <td></td>\n",
       "      <td>10014</td>\n",
       "      <td>0</td>\n",
       "      <td>0</td>\n",
       "      <td>0</td>\n",
       "      <td>0</td>\n",
       "      <td>0</td>\n",
       "      <td>0</td>\n",
       "      <td>2</td>\n",
       "      <td>R4</td>\n",
       "      <td>$2,214,693</td>\n",
       "      <td>20/05/2013</td>\n",
       "    </tr>\n",
       "    <tr>\n",
       "      <th>1</th>\n",
       "      <td>1</td>\n",
       "      <td></td>\n",
       "      <td>13  CONDOS - ELEVATOR APARTMENTS</td>\n",
       "      <td></td>\n",
       "      <td>738</td>\n",
       "      <td>1307</td>\n",
       "      <td></td>\n",
       "      <td></td>\n",
       "      <td>345 WEST 14TH   STREET</td>\n",
       "      <td></td>\n",
       "      <td>10014</td>\n",
       "      <td>0</td>\n",
       "      <td>0</td>\n",
       "      <td>0</td>\n",
       "      <td>0</td>\n",
       "      <td>0</td>\n",
       "      <td>0</td>\n",
       "      <td>2</td>\n",
       "      <td>R4</td>\n",
       "      <td>$1,654,656</td>\n",
       "      <td>16/05/2013</td>\n",
       "    </tr>\n",
       "    <tr>\n",
       "      <th>2</th>\n",
       "      <td>1</td>\n",
       "      <td></td>\n",
       "      <td>13  CONDOS - ELEVATOR APARTMENTS</td>\n",
       "      <td></td>\n",
       "      <td>738</td>\n",
       "      <td>1308</td>\n",
       "      <td></td>\n",
       "      <td></td>\n",
       "      <td>345 WEST 14TH   STREET</td>\n",
       "      <td></td>\n",
       "      <td>10014</td>\n",
       "      <td>0</td>\n",
       "      <td>0</td>\n",
       "      <td>0</td>\n",
       "      <td>0</td>\n",
       "      <td>0</td>\n",
       "      <td>0</td>\n",
       "      <td>2</td>\n",
       "      <td>R4</td>\n",
       "      <td>$1,069,162</td>\n",
       "      <td>23/05/2013</td>\n",
       "    </tr>\n",
       "    <tr>\n",
       "      <th>3</th>\n",
       "      <td>1</td>\n",
       "      <td></td>\n",
       "      <td>13  CONDOS - ELEVATOR APARTMENTS</td>\n",
       "      <td></td>\n",
       "      <td>738</td>\n",
       "      <td>1309</td>\n",
       "      <td></td>\n",
       "      <td></td>\n",
       "      <td>345 WEST 14TH   STREET</td>\n",
       "      <td></td>\n",
       "      <td>10014</td>\n",
       "      <td>0</td>\n",
       "      <td>0</td>\n",
       "      <td>0</td>\n",
       "      <td>0</td>\n",
       "      <td>0</td>\n",
       "      <td>0</td>\n",
       "      <td>2</td>\n",
       "      <td>R4</td>\n",
       "      <td>$1,374,637</td>\n",
       "      <td>15/05/2013</td>\n",
       "    </tr>\n",
       "    <tr>\n",
       "      <th>4</th>\n",
       "      <td>1</td>\n",
       "      <td></td>\n",
       "      <td>13  CONDOS - ELEVATOR APARTMENTS</td>\n",
       "      <td></td>\n",
       "      <td>738</td>\n",
       "      <td>1310</td>\n",
       "      <td></td>\n",
       "      <td></td>\n",
       "      <td>345 WEST 14TH   STREET</td>\n",
       "      <td></td>\n",
       "      <td>10014</td>\n",
       "      <td>0</td>\n",
       "      <td>0</td>\n",
       "      <td>0</td>\n",
       "      <td>0</td>\n",
       "      <td>0</td>\n",
       "      <td>0</td>\n",
       "      <td>2</td>\n",
       "      <td>R4</td>\n",
       "      <td>$1,649,565</td>\n",
       "      <td>13/05/2013</td>\n",
       "    </tr>\n",
       "  </tbody>\n",
       "</table>\n",
       "</div>"
      ],
      "text/plain": [
       "   BOROUGH               NEIGHBORHOOD  \\\n",
       "0        1                              \n",
       "1        1                              \n",
       "2        1                              \n",
       "3        1                              \n",
       "4        1                              \n",
       "\n",
       "                        BUILDING CLASS CATEGORY TAX CLASS AT PRESENT  BLOCK  \\\n",
       "0  13  CONDOS - ELEVATOR APARTMENTS                                     738   \n",
       "1  13  CONDOS - ELEVATOR APARTMENTS                                     738   \n",
       "2  13  CONDOS - ELEVATOR APARTMENTS                                     738   \n",
       "3  13  CONDOS - ELEVATOR APARTMENTS                                     738   \n",
       "4  13  CONDOS - ELEVATOR APARTMENTS                                     738   \n",
       "\n",
       "    LOT EASE-MENT BUILDING CLASS AT PRESENT  \\\n",
       "0  1306                                       \n",
       "1  1307                                       \n",
       "2  1308                                       \n",
       "3  1309                                       \n",
       "4  1310                                       \n",
       "\n",
       "                                       ADDRESS APART\\nMENT\\nNUMBER  ZIP CODE  \\\n",
       "0   345 WEST 14TH   STREET                                             10014   \n",
       "1   345 WEST 14TH   STREET                                             10014   \n",
       "2   345 WEST 14TH   STREET                                             10014   \n",
       "3   345 WEST 14TH   STREET                                             10014   \n",
       "4   345 WEST 14TH   STREET                                             10014   \n",
       "\n",
       "  RESIDENTIAL UNITS  COMMERCIAL UNITS TOTAL UNITS LAND SQUARE FEET  \\\n",
       "0                 0                 0           0                0   \n",
       "1                 0                 0           0                0   \n",
       "2                 0                 0           0                0   \n",
       "3                 0                 0           0                0   \n",
       "4                 0                 0           0                0   \n",
       "\n",
       "  GROSS SQUARE FEET  YEAR BUILT  TAX CLASS AT TIME OF SALE  \\\n",
       "0                 0           0                          2   \n",
       "1                 0           0                          2   \n",
       "2                 0           0                          2   \n",
       "3                 0           0                          2   \n",
       "4                 0           0                          2   \n",
       "\n",
       "  BUILDING CLASS AT TIME OF SALE SALE\\nPRICE   SALE DATE  \n",
       "0                            R4   $2,214,693  20/05/2013  \n",
       "1                            R4   $1,654,656  16/05/2013  \n",
       "2                            R4   $1,069,162  23/05/2013  \n",
       "3                            R4   $1,374,637  15/05/2013  \n",
       "4                            R4   $1,649,565  13/05/2013  "
      ]
     },
     "execution_count": 2,
     "metadata": {},
     "output_type": "execute_result"
    }
   ],
   "source": [
    "pd.set_option('display.max_columns', None)\n",
    "df = pd.read_csv(\"Manhattan12.csv\", skiprows=4)\n",
    "df.head(5)"
   ]
  },
  {
   "cell_type": "markdown",
   "metadata": {},
   "source": [
    "## Rename the column names by deleting the carriage return"
   ]
  },
  {
   "cell_type": "code",
   "execution_count": 3,
   "metadata": {},
   "outputs": [],
   "source": [
    "df.columns = df.columns.str.replace(\"\\n\", \"\")"
   ]
  },
  {
   "cell_type": "code",
   "execution_count": 4,
   "metadata": {},
   "outputs": [
    {
     "name": "stdout",
     "output_type": "stream",
     "text": [
      "<class 'pandas.core.frame.DataFrame'>\n",
      "RangeIndex: 27395 entries, 0 to 27394\n",
      "Data columns (total 21 columns):\n",
      " #   Column                          Non-Null Count  Dtype \n",
      "---  ------                          --------------  ----- \n",
      " 0   BOROUGH                         27395 non-null  int64 \n",
      " 1   NEIGHBORHOOD                    27395 non-null  object\n",
      " 2   BUILDING CLASS CATEGORY         27395 non-null  object\n",
      " 3   TAX CLASS AT PRESENT            27395 non-null  object\n",
      " 4   BLOCK                           27395 non-null  int64 \n",
      " 5   LOT                             27395 non-null  int64 \n",
      " 6   EASE-MENT                       27395 non-null  object\n",
      " 7   BUILDING CLASS AT PRESENT       27395 non-null  object\n",
      " 8   ADDRESS                         27395 non-null  object\n",
      " 9   APARTMENTNUMBER                 27395 non-null  object\n",
      " 10  ZIP CODE                        27395 non-null  int64 \n",
      " 11  RESIDENTIAL UNITS               27395 non-null  object\n",
      " 12  COMMERCIAL UNITS                27395 non-null  int64 \n",
      " 13  TOTAL UNITS                     27395 non-null  object\n",
      " 14  LAND SQUARE FEET                27395 non-null  object\n",
      " 15  GROSS SQUARE FEET               27395 non-null  object\n",
      " 16  YEAR BUILT                      27395 non-null  int64 \n",
      " 17  TAX CLASS AT TIME OF SALE       27395 non-null  int64 \n",
      " 18  BUILDING CLASS AT TIME OF SALE  27395 non-null  object\n",
      " 19  SALEPRICE                       27395 non-null  object\n",
      " 20  SALE DATE                       27395 non-null  object\n",
      "dtypes: int64(7), object(14)\n",
      "memory usage: 4.4+ MB\n"
     ]
    }
   ],
   "source": [
    "df.info()"
   ]
  },
  {
<<<<<<< Updated upstream
=======
   "cell_type": "markdown",
   "metadata": {},
   "source": [
    "Show the shape of the dataset"
   ]
  },
  {
>>>>>>> Stashed changes
   "cell_type": "code",
   "execution_count": 5,
   "metadata": {},
   "outputs": [
    {
     "data": {
      "text/plain": [
       "(27395, 21)"
      ]
     },
     "execution_count": 5,
     "metadata": {},
     "output_type": "execute_result"
    }
   ],
   "source": [
    "df.shape"
   ]
  },
  {
<<<<<<< Updated upstream
=======
   "cell_type": "markdown",
   "metadata": {},
   "source": [
    "For each numerical column,remove the ',' the '$' for the sale price ,and then convert them to numeric"
   ]
  },
  {
>>>>>>> Stashed changes
   "cell_type": "code",
   "execution_count": 6,
   "metadata": {},
   "outputs": [
    {
     "name": "stderr",
     "output_type": "stream",
     "text": [
<<<<<<< Updated upstream
      "/var/folders/4m/__j4737x1p73lg1hgfht7tnm0000gn/T/ipykernel_20929/2076503121.py:1: FutureWarning: The default value of regex will change from True to False in a future version. In addition, single character regular expressions will *not* be treated as literal strings when regex=True.\n",
=======
      "/var/folders/8h/2r2csyv927919gwj640_1rdr0000gn/T/ipykernel_1438/2076503121.py:1: FutureWarning: The default value of regex will change from True to False in a future version. In addition, single character regular expressions will *not* be treated as literal strings when regex=True.\n",
>>>>>>> Stashed changes
      "  df[\"SALEPRICE\"] = df[\"SALEPRICE\"].str.replace(\",\",\"\").str.replace(\"$\",\"\").astype(np.int64)\n"
     ]
    }
   ],
   "source": [
    "df[\"SALEPRICE\"] = df[\"SALEPRICE\"].str.replace(\",\",\"\").str.replace(\"$\",\"\").astype(np.int64)"
   ]
  },
  {
<<<<<<< Updated upstream
   "cell_type": "code",
   "execution_count": 8,
=======
   "cell_type": "markdown",
   "metadata": {},
   "source": [
    "Drop columns 'BOROUGH', 'EASE-MENT','APARTMENTNUMBER'"
   ]
  },
  {
   "cell_type": "code",
   "execution_count": 7,
>>>>>>> Stashed changes
   "metadata": {},
   "outputs": [],
   "source": [
    "cols = ['BOROUGH', 'EASE-MENT', 'APARTMENTNUMBER']\n",
    "\n",
    "df.drop(columns=cols, axis=1, inplace=True)"
   ]
  },
  {
   "cell_type": "code",
<<<<<<< Updated upstream
   "execution_count": 16,
=======
   "execution_count": 8,
>>>>>>> Stashed changes
   "metadata": {},
   "outputs": [],
   "source": [
    "df[\"BUILDING CLASS CATEGORY\"] = df[\"BUILDING CLASS CATEGORY\"].str.strip()"
   ]
  },
  {
   "cell_type": "code",
<<<<<<< Updated upstream
   "execution_count": 17,
=======
   "execution_count": 9,
>>>>>>> Stashed changes
   "metadata": {},
   "outputs": [],
   "source": [
    "df[\"NEIGHBORHOOD\"] = df[\"NEIGHBORHOOD\"].str.strip()"
   ]
  },
  {
<<<<<<< Updated upstream
   "cell_type": "code",
   "execution_count": 21,
=======
   "cell_type": "markdown",
   "metadata": {},
   "source": [
    "Convert the 'SALE DATE' to datetime"
   ]
  },
  {
   "cell_type": "code",
   "execution_count": 10,
>>>>>>> Stashed changes
   "metadata": {},
   "outputs": [
    {
     "name": "stderr",
     "output_type": "stream",
     "text": [
<<<<<<< Updated upstream
      "/var/folders/4m/__j4737x1p73lg1hgfht7tnm0000gn/T/ipykernel_20929/4107402048.py:1: UserWarning: Parsing dates in DD/MM/YYYY format when dayfirst=False (the default) was specified. This may lead to inconsistently parsed dates! Specify a format to ensure consistent parsing.\n",
=======
      "/var/folders/8h/2r2csyv927919gwj640_1rdr0000gn/T/ipykernel_1438/4107402048.py:1: UserWarning: Parsing dates in DD/MM/YYYY format when dayfirst=False (the default) was specified. This may lead to inconsistently parsed dates! Specify a format to ensure consistent parsing.\n",
>>>>>>> Stashed changes
      "  df[\"SALE DATE\"] = df[\"SALE DATE\"].astype(np.datetime64)\n"
     ]
    }
   ],
   "source": [
    "df[\"SALE DATE\"] = df[\"SALE DATE\"].astype(np.datetime64)"
   ]
  },
  {
<<<<<<< Updated upstream
   "cell_type": "code",
   "execution_count": 26,
=======
   "cell_type": "markdown",
   "metadata": {},
   "source": [
    "DROP duplicates if any"
   ]
  },
  {
   "cell_type": "code",
   "execution_count": 11,
>>>>>>> Stashed changes
   "metadata": {},
   "outputs": [
    {
     "data": {
      "text/plain": [
       "(25802, 18)"
      ]
     },
<<<<<<< Updated upstream
     "execution_count": 26,
=======
     "execution_count": 11,
>>>>>>> Stashed changes
     "metadata": {},
     "output_type": "execute_result"
    }
   ],
   "source": [
    "df.drop_duplicates(inplace=True)\n",
    "df.shape"
   ]
  },
  {
   "cell_type": "code",
<<<<<<< Updated upstream
   "execution_count": 25,
=======
   "execution_count": 12,
>>>>>>> Stashed changes
   "metadata": {},
   "outputs": [
    {
     "data": {
<<<<<<< Updated upstream
      "text/plain": [
       "(25802, 18)"
      ]
     },
     "execution_count": 25,
=======
      "text/html": [
       "<div>\n",
       "<style scoped>\n",
       "    .dataframe tbody tr th:only-of-type {\n",
       "        vertical-align: middle;\n",
       "    }\n",
       "\n",
       "    .dataframe tbody tr th {\n",
       "        vertical-align: top;\n",
       "    }\n",
       "\n",
       "    .dataframe thead th {\n",
       "        text-align: right;\n",
       "    }\n",
       "</style>\n",
       "<table border=\"1\" class=\"dataframe\">\n",
       "  <thead>\n",
       "    <tr style=\"text-align: right;\">\n",
       "      <th></th>\n",
       "      <th>NEIGHBORHOOD</th>\n",
       "      <th>BUILDING CLASS CATEGORY</th>\n",
       "      <th>TAX CLASS AT PRESENT</th>\n",
       "      <th>BLOCK</th>\n",
       "      <th>LOT</th>\n",
       "      <th>BUILDING CLASS AT PRESENT</th>\n",
       "      <th>ADDRESS</th>\n",
       "      <th>ZIP CODE</th>\n",
       "      <th>RESIDENTIAL UNITS</th>\n",
       "      <th>COMMERCIAL UNITS</th>\n",
       "      <th>TOTAL UNITS</th>\n",
       "      <th>LAND SQUARE FEET</th>\n",
       "      <th>GROSS SQUARE FEET</th>\n",
       "      <th>YEAR BUILT</th>\n",
       "      <th>TAX CLASS AT TIME OF SALE</th>\n",
       "      <th>BUILDING CLASS AT TIME OF SALE</th>\n",
       "      <th>SALEPRICE</th>\n",
       "      <th>SALE DATE</th>\n",
       "    </tr>\n",
       "  </thead>\n",
       "  <tbody>\n",
       "    <tr>\n",
       "      <th>0</th>\n",
       "      <td></td>\n",
       "      <td>13  CONDOS - ELEVATOR APARTMENTS</td>\n",
       "      <td></td>\n",
       "      <td>738</td>\n",
       "      <td>1306</td>\n",
       "      <td></td>\n",
       "      <td>345 WEST 14TH   STREET</td>\n",
       "      <td>10014</td>\n",
       "      <td>0</td>\n",
       "      <td>0</td>\n",
       "      <td>0</td>\n",
       "      <td>0</td>\n",
       "      <td>0</td>\n",
       "      <td>0</td>\n",
       "      <td>2</td>\n",
       "      <td>R4</td>\n",
       "      <td>2214693</td>\n",
       "      <td>2013-05-20</td>\n",
       "    </tr>\n",
       "    <tr>\n",
       "      <th>1</th>\n",
       "      <td></td>\n",
       "      <td>13  CONDOS - ELEVATOR APARTMENTS</td>\n",
       "      <td></td>\n",
       "      <td>738</td>\n",
       "      <td>1307</td>\n",
       "      <td></td>\n",
       "      <td>345 WEST 14TH   STREET</td>\n",
       "      <td>10014</td>\n",
       "      <td>0</td>\n",
       "      <td>0</td>\n",
       "      <td>0</td>\n",
       "      <td>0</td>\n",
       "      <td>0</td>\n",
       "      <td>0</td>\n",
       "      <td>2</td>\n",
       "      <td>R4</td>\n",
       "      <td>1654656</td>\n",
       "      <td>2013-05-16</td>\n",
       "    </tr>\n",
       "    <tr>\n",
       "      <th>2</th>\n",
       "      <td></td>\n",
       "      <td>13  CONDOS - ELEVATOR APARTMENTS</td>\n",
       "      <td></td>\n",
       "      <td>738</td>\n",
       "      <td>1308</td>\n",
       "      <td></td>\n",
       "      <td>345 WEST 14TH   STREET</td>\n",
       "      <td>10014</td>\n",
       "      <td>0</td>\n",
       "      <td>0</td>\n",
       "      <td>0</td>\n",
       "      <td>0</td>\n",
       "      <td>0</td>\n",
       "      <td>0</td>\n",
       "      <td>2</td>\n",
       "      <td>R4</td>\n",
       "      <td>1069162</td>\n",
       "      <td>2013-05-23</td>\n",
       "    </tr>\n",
       "    <tr>\n",
       "      <th>3</th>\n",
       "      <td></td>\n",
       "      <td>13  CONDOS - ELEVATOR APARTMENTS</td>\n",
       "      <td></td>\n",
       "      <td>738</td>\n",
       "      <td>1309</td>\n",
       "      <td></td>\n",
       "      <td>345 WEST 14TH   STREET</td>\n",
       "      <td>10014</td>\n",
       "      <td>0</td>\n",
       "      <td>0</td>\n",
       "      <td>0</td>\n",
       "      <td>0</td>\n",
       "      <td>0</td>\n",
       "      <td>0</td>\n",
       "      <td>2</td>\n",
       "      <td>R4</td>\n",
       "      <td>1374637</td>\n",
       "      <td>2013-05-15</td>\n",
       "    </tr>\n",
       "    <tr>\n",
       "      <th>4</th>\n",
       "      <td></td>\n",
       "      <td>13  CONDOS - ELEVATOR APARTMENTS</td>\n",
       "      <td></td>\n",
       "      <td>738</td>\n",
       "      <td>1310</td>\n",
       "      <td></td>\n",
       "      <td>345 WEST 14TH   STREET</td>\n",
       "      <td>10014</td>\n",
       "      <td>0</td>\n",
       "      <td>0</td>\n",
       "      <td>0</td>\n",
       "      <td>0</td>\n",
       "      <td>0</td>\n",
       "      <td>0</td>\n",
       "      <td>2</td>\n",
       "      <td>R4</td>\n",
       "      <td>1649565</td>\n",
       "      <td>2013-05-13</td>\n",
       "    </tr>\n",
       "  </tbody>\n",
       "</table>\n",
       "</div>"
      ],
      "text/plain": [
       "  NEIGHBORHOOD           BUILDING CLASS CATEGORY TAX CLASS AT PRESENT  BLOCK  \\\n",
       "0               13  CONDOS - ELEVATOR APARTMENTS                         738   \n",
       "1               13  CONDOS - ELEVATOR APARTMENTS                         738   \n",
       "2               13  CONDOS - ELEVATOR APARTMENTS                         738   \n",
       "3               13  CONDOS - ELEVATOR APARTMENTS                         738   \n",
       "4               13  CONDOS - ELEVATOR APARTMENTS                         738   \n",
       "\n",
       "    LOT BUILDING CLASS AT PRESENT  \\\n",
       "0  1306                             \n",
       "1  1307                             \n",
       "2  1308                             \n",
       "3  1309                             \n",
       "4  1310                             \n",
       "\n",
       "                                       ADDRESS  ZIP CODE RESIDENTIAL UNITS  \\\n",
       "0   345 WEST 14TH   STREET                         10014                 0   \n",
       "1   345 WEST 14TH   STREET                         10014                 0   \n",
       "2   345 WEST 14TH   STREET                         10014                 0   \n",
       "3   345 WEST 14TH   STREET                         10014                 0   \n",
       "4   345 WEST 14TH   STREET                         10014                 0   \n",
       "\n",
       "   COMMERCIAL UNITS TOTAL UNITS LAND SQUARE FEET GROSS SQUARE FEET  \\\n",
       "0                 0           0                0                 0   \n",
       "1                 0           0                0                 0   \n",
       "2                 0           0                0                 0   \n",
       "3                 0           0                0                 0   \n",
       "4                 0           0                0                 0   \n",
       "\n",
       "   YEAR BUILT  TAX CLASS AT TIME OF SALE BUILDING CLASS AT TIME OF SALE  \\\n",
       "0           0                          2                            R4    \n",
       "1           0                          2                            R4    \n",
       "2           0                          2                            R4    \n",
       "3           0                          2                            R4    \n",
       "4           0                          2                            R4    \n",
       "\n",
       "   SALEPRICE  SALE DATE  \n",
       "0    2214693 2013-05-20  \n",
       "1    1654656 2013-05-16  \n",
       "2    1069162 2013-05-23  \n",
       "3    1374637 2013-05-15  \n",
       "4    1649565 2013-05-13  "
      ]
     },
     "execution_count": 12,
>>>>>>> Stashed changes
     "metadata": {},
     "output_type": "execute_result"
    }
   ],
<<<<<<< Updated upstream
=======
   "source": [
    "df.head(5)"
   ]
  },
  {
   "cell_type": "code",
   "execution_count": null,
   "metadata": {},
   "outputs": [],
>>>>>>> Stashed changes
   "source": []
  },
  {
   "cell_type": "code",
   "execution_count": null,
   "metadata": {},
   "outputs": [],
   "source": []
  }
 ],
 "metadata": {
  "kernelspec": {
   "display_name": "Python 3 (ipykernel)",
   "language": "python",
   "name": "python3"
  },
  "language_info": {
   "codemirror_mode": {
    "name": "ipython",
    "version": 3
   },
   "file_extension": ".py",
   "mimetype": "text/x-python",
   "name": "python",
   "nbconvert_exporter": "python",
   "pygments_lexer": "ipython3",
<<<<<<< Updated upstream
   "version": "3.9.13"
  },
  "vscode": {
   "interpreter": {
    "hash": "d6e11ff7d04ba6e29ce357c983ef8bd505bb7d67c8c202b008a2bca7dea6b985"
=======
   "version": "3.10.9"
  },
  "vscode": {
   "interpreter": {
    "hash": "b14e2bd552c646d1de87f07e65b459362da94884ff13a5b36b9ebcbc7c693203"
>>>>>>> Stashed changes
   }
  }
 },
 "nbformat": 4,
 "nbformat_minor": 2
}

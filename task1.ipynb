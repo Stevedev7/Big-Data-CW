{
 "cells": [
  {
   "cell_type": "code",
   "execution_count": 1,
   "metadata": {},
   "outputs": [],
   "source": [
    "import pandas as pd\n",
    "import numpy as np"
   ]
  },
  {
   "cell_type": "code",
   "execution_count": 2,
   "metadata": {},
   "outputs": [
    {
     "data": {
      "text/plain": [
       "(27395, 21)"
      ]
     },
     "execution_count": 2,
     "metadata": {},
     "output_type": "execute_result"
    }
   ],
   "source": [
    "pd.set_option('display.max_columns', None)\n",
    "df = pd.read_csv(\"Manhattan12.csv\", skiprows=4)\n",
    "df.shape"
   ]
  },
  {
   "cell_type": "code",
   "execution_count": 3,
   "metadata": {},
   "outputs": [],
   "source": [
    "df.columns = df.columns.str.replace(\"\\n\", \"\").str.replace(\" \", \"_\")\n",
    "df.rename(columns={\"SALEPRICE\": \"SALE_PRICE\", \"APARTMENTNUMBER\": \"APARTMENT_NUMBER\"}, inplace=True)"
   ]
  },
  {
   "cell_type": "code",
   "execution_count": 4,
   "metadata": {},
   "outputs": [
    {
     "name": "stderr",
     "output_type": "stream",
     "text": [
      "/var/folders/4m/__j4737x1p73lg1hgfht7tnm0000gn/T/ipykernel_78151/1126458197.py:4: FutureWarning: The default value of regex will change from True to False in a future version. In addition, single character regular expressions will *not* be treated as literal strings when regex=True.\n",
      "  df[col] = df[col].str.replace(\",\",\"\").str.replace(\"$\",\"\").astype(dtype)\n"
     ]
    }
   ],
   "source": [
    "df.columns = df.columns.str.strip().str.replace(\"\\n\", \"\")\n",
    "\n",
    "def format_and_convert_column_to_numeric(col, dtype):\n",
    "    df[col] = df[col].str.replace(\",\",\"\").str.replace(\"$\",\"\").astype(dtype)\n",
    "    \n",
    "format_and_convert_column_to_numeric('SALE_PRICE', np.int64)\n",
    "format_and_convert_column_to_numeric('GROSS_SQUARE_FEET', np.float64)\n",
    "format_and_convert_column_to_numeric('LAND_SQUARE_FEET', np.float64)\n",
    "format_and_convert_column_to_numeric('RESIDENTIAL_UNITS', np.int64)\n",
    "format_and_convert_column_to_numeric('TOTAL_UNITS', np.int64)\n",
    "\n",
    "# Convert To datetime\n",
    "df['SALE_DATE'] =pd.to_datetime(df['SALE_DATE'], dayfirst=True)\n",
    "\n",
    "df['YEAR_BUILT'] = df['YEAR_BUILT'].astype(np.int64)"
   ]
  },
  {
   "cell_type": "code",
   "execution_count": 5,
   "metadata": {},
   "outputs": [
    {
     "name": "stdout",
     "output_type": "stream",
     "text": [
      "Categorical columns:  ['NEIGHBORHOOD', 'BUILDING_CLASS_CATEGORY', 'TAX_CLASS_AT_PRESENT', 'EASE-MENT', 'BUILDING_CLASS_AT_PRESENT', 'ADDRESS', 'APARTMENT_NUMBER', 'BUILDING_CLASS_AT_TIME_OF_SALE']\n",
      "Numerical columns:  ['BOROUGH', 'BLOCK', 'LOT', 'ZIP_CODE', 'RESIDENTIAL_UNITS', 'COMMERCIAL_UNITS', 'TOTAL_UNITS', 'LAND_SQUARE_FEET', 'GROSS_SQUARE_FEET', 'YEAR_BUILT', 'TAX_CLASS_AT_TIME_OF_SALE', 'SALE_PRICE']\n"
     ]
    }
   ],
   "source": [
    "categorical = df.select_dtypes(include='object').columns.tolist()\n",
    "numerical = df.select_dtypes(include=['int', 'float']).columns.tolist()\n",
    "print(\"Categorical columns: \", categorical)\n",
    "print(\"Numerical columns: \", numerical)"
   ]
  },
  {
   "cell_type": "code",
   "execution_count": 6,
   "metadata": {},
   "outputs": [],
   "source": [
    "df[categorical] = df[categorical].applymap(lambda x: x.replace(r\" +\", \"\"))\n",
    "df[categorical] = df[categorical].applymap(lambda x: \" \".join(x.split()))"
   ]
  },
  {
   "cell_type": "code",
   "execution_count": 7,
   "metadata": {},
   "outputs": [],
   "source": [
    "df[categorical] = df[categorical].replace(\"\", np.nan)\n",
    "df[numerical] = df[numerical].replace(0, np.nan)"
   ]
  },
  {
   "cell_type": "code",
   "execution_count": 8,
   "metadata": {},
   "outputs": [
    {
     "data": {
      "text/plain": [
       "BOROUGH                             0.000000\n",
       "NEIGHBORHOOD                        0.062055\n",
       "BUILDING_CLASS_CATEGORY            12.608140\n",
       "TAX_CLASS_AT_PRESENT                0.521993\n",
       "BLOCK                               0.000000\n",
       "LOT                                 0.000000\n",
       "EASE-MENT                         100.000000\n",
       "BUILDING_CLASS_AT_PRESENT           0.521993\n",
       "ADDRESS                             0.000000\n",
       "APARTMENT_NUMBER                   53.184888\n",
       "ZIP_CODE                            0.003650\n",
       "RESIDENTIAL_UNITS                  59.762730\n",
       "COMMERCIAL_UNITS                   87.468516\n",
       "TOTAL_UNITS                        35.422522\n",
       "LAND_SQUARE_FEET                   83.613798\n",
       "GROSS_SQUARE_FEET                  84.208797\n",
       "YEAR_BUILT                         23.511590\n",
       "TAX_CLASS_AT_TIME_OF_SALE           0.000000\n",
       "BUILDING_CLASS_AT_TIME_OF_SALE      0.000000\n",
       "SALE_PRICE                         27.716737\n",
       "SALE_DATE                           0.000000\n",
       "dtype: float64"
      ]
     },
     "execution_count": 8,
     "metadata": {},
     "output_type": "execute_result"
    }
   ],
   "source": [
    "df.isna().sum() / df.shape[0] * 100"
   ]
  },
  {
   "cell_type": "code",
   "execution_count": 9,
   "metadata": {},
   "outputs": [
    {
     "data": {
      "text/plain": [
       "Index(['NEIGHBORHOOD', 'BUILDING_CLASS_CATEGORY', 'TAX_CLASS_AT_PRESENT',\n",
       "       'BLOCK', 'LOT', 'BUILDING_CLASS_AT_PRESENT', 'ADDRESS', 'ZIP_CODE',\n",
       "       'RESIDENTIAL_UNITS', 'COMMERCIAL_UNITS', 'TOTAL_UNITS',\n",
       "       'LAND_SQUARE_FEET', 'GROSS_SQUARE_FEET', 'YEAR_BUILT',\n",
       "       'TAX_CLASS_AT_TIME_OF_SALE', 'BUILDING_CLASS_AT_TIME_OF_SALE',\n",
       "       'SALE_PRICE', 'SALE_DATE'],\n",
       "      dtype='object')"
      ]
     },
     "execution_count": 9,
     "metadata": {},
     "output_type": "execute_result"
    }
   ],
   "source": [
    "df.drop(columns=['BOROUGH', 'EASE-MENT', 'APARTMENT_NUMBER'], inplace=True)\n",
    "df.columns"
   ]
  },
  {
   "cell_type": "code",
   "execution_count": 10,
   "metadata": {},
   "outputs": [
    {
     "data": {
      "text/plain": [
       "NEIGHBORHOOD                      0\n",
       "BUILDING_CLASS_CATEGORY           0\n",
       "TAX_CLASS_AT_PRESENT              0\n",
       "BLOCK                             0\n",
       "LOT                               0\n",
       "BUILDING_CLASS_AT_PRESENT         0\n",
       "ADDRESS                           0\n",
       "ZIP_CODE                          0\n",
       "RESIDENTIAL_UNITS                 0\n",
       "COMMERCIAL_UNITS                  0\n",
       "TOTAL_UNITS                       0\n",
       "LAND_SQUARE_FEET                  0\n",
       "GROSS_SQUARE_FEET                 0\n",
       "YEAR_BUILT                        0\n",
       "TAX_CLASS_AT_TIME_OF_SALE         0\n",
       "BUILDING_CLASS_AT_TIME_OF_SALE    0\n",
       "SALE_PRICE                        0\n",
       "SALE_DATE                         0\n",
       "dtype: int64"
      ]
     },
     "execution_count": 10,
     "metadata": {},
     "output_type": "execute_result"
    }
   ],
   "source": [
    "df.drop_duplicates(inplace=True)\n",
    "df.dropna(inplace=True)\n",
    "df.isna().sum()"
   ]
  },
  {
   "cell_type": "code",
   "execution_count": null,
   "metadata": {},
   "outputs": [],
   "source": []
  }
 ],
 "metadata": {
  "kernelspec": {
   "display_name": "bdcw2",
   "language": "python",
   "name": "python3"
  },
  "language_info": {
   "codemirror_mode": {
    "name": "ipython",
    "version": 3
   },
   "file_extension": ".py",
   "mimetype": "text/x-python",
   "name": "python",
   "nbconvert_exporter": "python",
   "pygments_lexer": "ipython3",
   "version": "3.10.9"
  },
  "orig_nbformat": 4
 },
 "nbformat": 4,
 "nbformat_minor": 2
}

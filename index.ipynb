{
 "cells": [
  {
   "cell_type": "markdown",
   "metadata": {},
   "source": [
    "# Import packages"
   ]
  },
  {
   "cell_type": "code",
   "execution_count": 27,
   "metadata": {},
   "outputs": [],
   "source": [
    "import pandas as pd\n",
    "import numpy as np"
   ]
  },
  {
   "cell_type": "markdown",
   "metadata": {},
   "source": [
    "# Read dataset\n",
    "### Read dataset into dataframes and display the 1st 5 rows"
   ]
  },
  {
   "cell_type": "code",
   "execution_count": 28,
   "metadata": {},
   "outputs": [
    {
     "data": {
      "text/html": [
       "<div>\n",
       "<style scoped>\n",
       "    .dataframe tbody tr th:only-of-type {\n",
       "        vertical-align: middle;\n",
       "    }\n",
       "\n",
       "    .dataframe tbody tr th {\n",
       "        vertical-align: top;\n",
       "    }\n",
       "\n",
       "    .dataframe thead th {\n",
       "        text-align: right;\n",
       "    }\n",
       "</style>\n",
       "<table border=\"1\" class=\"dataframe\">\n",
       "  <thead>\n",
       "    <tr style=\"text-align: right;\">\n",
       "      <th></th>\n",
       "      <th>BOROUGH</th>\n",
       "      <th>NEIGHBORHOOD</th>\n",
       "      <th>BUILDING CLASS CATEGORY</th>\n",
       "      <th>TAX CLASS AT PRESENT</th>\n",
       "      <th>BLOCK</th>\n",
       "      <th>LOT</th>\n",
       "      <th>EASE-MENT</th>\n",
       "      <th>BUILDING CLASS AT PRESENT</th>\n",
       "      <th>ADDRESS</th>\n",
       "      <th>APART\\nMENT\\nNUMBER</th>\n",
       "      <th>ZIP CODE</th>\n",
       "      <th>RESIDENTIAL UNITS</th>\n",
       "      <th>COMMERCIAL UNITS</th>\n",
       "      <th>TOTAL UNITS</th>\n",
       "      <th>LAND SQUARE FEET</th>\n",
       "      <th>GROSS SQUARE FEET</th>\n",
       "      <th>YEAR BUILT</th>\n",
       "      <th>TAX CLASS AT TIME OF SALE</th>\n",
       "      <th>BUILDING CLASS AT TIME OF SALE</th>\n",
       "      <th>SALE\\nPRICE</th>\n",
       "      <th>SALE DATE</th>\n",
       "    </tr>\n",
       "  </thead>\n",
       "  <tbody>\n",
       "    <tr>\n",
       "      <th>0</th>\n",
       "      <td>1</td>\n",
       "      <td></td>\n",
       "      <td>13  CONDOS - ELEVATOR APARTMENTS</td>\n",
       "      <td></td>\n",
       "      <td>738</td>\n",
       "      <td>1306</td>\n",
       "      <td></td>\n",
       "      <td></td>\n",
       "      <td>345 WEST 14TH   STREET</td>\n",
       "      <td></td>\n",
       "      <td>10014</td>\n",
       "      <td>0</td>\n",
       "      <td>0</td>\n",
       "      <td>0</td>\n",
       "      <td>0</td>\n",
       "      <td>0</td>\n",
       "      <td>0</td>\n",
       "      <td>2</td>\n",
       "      <td>R4</td>\n",
       "      <td>$2,214,693</td>\n",
       "      <td>20/05/2013</td>\n",
       "    </tr>\n",
       "    <tr>\n",
       "      <th>1</th>\n",
       "      <td>1</td>\n",
       "      <td></td>\n",
       "      <td>13  CONDOS - ELEVATOR APARTMENTS</td>\n",
       "      <td></td>\n",
       "      <td>738</td>\n",
       "      <td>1307</td>\n",
       "      <td></td>\n",
       "      <td></td>\n",
       "      <td>345 WEST 14TH   STREET</td>\n",
       "      <td></td>\n",
       "      <td>10014</td>\n",
       "      <td>0</td>\n",
       "      <td>0</td>\n",
       "      <td>0</td>\n",
       "      <td>0</td>\n",
       "      <td>0</td>\n",
       "      <td>0</td>\n",
       "      <td>2</td>\n",
       "      <td>R4</td>\n",
       "      <td>$1,654,656</td>\n",
       "      <td>16/05/2013</td>\n",
       "    </tr>\n",
       "    <tr>\n",
       "      <th>2</th>\n",
       "      <td>1</td>\n",
       "      <td></td>\n",
       "      <td>13  CONDOS - ELEVATOR APARTMENTS</td>\n",
       "      <td></td>\n",
       "      <td>738</td>\n",
       "      <td>1308</td>\n",
       "      <td></td>\n",
       "      <td></td>\n",
       "      <td>345 WEST 14TH   STREET</td>\n",
       "      <td></td>\n",
       "      <td>10014</td>\n",
       "      <td>0</td>\n",
       "      <td>0</td>\n",
       "      <td>0</td>\n",
       "      <td>0</td>\n",
       "      <td>0</td>\n",
       "      <td>0</td>\n",
       "      <td>2</td>\n",
       "      <td>R4</td>\n",
       "      <td>$1,069,162</td>\n",
       "      <td>23/05/2013</td>\n",
       "    </tr>\n",
       "    <tr>\n",
       "      <th>3</th>\n",
       "      <td>1</td>\n",
       "      <td></td>\n",
       "      <td>13  CONDOS - ELEVATOR APARTMENTS</td>\n",
       "      <td></td>\n",
       "      <td>738</td>\n",
       "      <td>1309</td>\n",
       "      <td></td>\n",
       "      <td></td>\n",
       "      <td>345 WEST 14TH   STREET</td>\n",
       "      <td></td>\n",
       "      <td>10014</td>\n",
       "      <td>0</td>\n",
       "      <td>0</td>\n",
       "      <td>0</td>\n",
       "      <td>0</td>\n",
       "      <td>0</td>\n",
       "      <td>0</td>\n",
       "      <td>2</td>\n",
       "      <td>R4</td>\n",
       "      <td>$1,374,637</td>\n",
       "      <td>15/05/2013</td>\n",
       "    </tr>\n",
       "    <tr>\n",
       "      <th>4</th>\n",
       "      <td>1</td>\n",
       "      <td></td>\n",
       "      <td>13  CONDOS - ELEVATOR APARTMENTS</td>\n",
       "      <td></td>\n",
       "      <td>738</td>\n",
       "      <td>1310</td>\n",
       "      <td></td>\n",
       "      <td></td>\n",
       "      <td>345 WEST 14TH   STREET</td>\n",
       "      <td></td>\n",
       "      <td>10014</td>\n",
       "      <td>0</td>\n",
       "      <td>0</td>\n",
       "      <td>0</td>\n",
       "      <td>0</td>\n",
       "      <td>0</td>\n",
       "      <td>0</td>\n",
       "      <td>2</td>\n",
       "      <td>R4</td>\n",
       "      <td>$1,649,565</td>\n",
       "      <td>13/05/2013</td>\n",
       "    </tr>\n",
       "  </tbody>\n",
       "</table>\n",
       "</div>"
      ],
      "text/plain": [
       "   BOROUGH               NEIGHBORHOOD  \\\n",
       "0        1                              \n",
       "1        1                              \n",
       "2        1                              \n",
       "3        1                              \n",
       "4        1                              \n",
       "\n",
       "                        BUILDING CLASS CATEGORY TAX CLASS AT PRESENT  BLOCK  \\\n",
       "0  13  CONDOS - ELEVATOR APARTMENTS                                     738   \n",
       "1  13  CONDOS - ELEVATOR APARTMENTS                                     738   \n",
       "2  13  CONDOS - ELEVATOR APARTMENTS                                     738   \n",
       "3  13  CONDOS - ELEVATOR APARTMENTS                                     738   \n",
       "4  13  CONDOS - ELEVATOR APARTMENTS                                     738   \n",
       "\n",
       "    LOT EASE-MENT BUILDING CLASS AT PRESENT  \\\n",
       "0  1306                                       \n",
       "1  1307                                       \n",
       "2  1308                                       \n",
       "3  1309                                       \n",
       "4  1310                                       \n",
       "\n",
       "                                       ADDRESS APART\\nMENT\\nNUMBER  ZIP CODE  \\\n",
       "0   345 WEST 14TH   STREET                                             10014   \n",
       "1   345 WEST 14TH   STREET                                             10014   \n",
       "2   345 WEST 14TH   STREET                                             10014   \n",
       "3   345 WEST 14TH   STREET                                             10014   \n",
       "4   345 WEST 14TH   STREET                                             10014   \n",
       "\n",
       "  RESIDENTIAL UNITS  COMMERCIAL UNITS TOTAL UNITS LAND SQUARE FEET  \\\n",
       "0                 0                 0           0                0   \n",
       "1                 0                 0           0                0   \n",
       "2                 0                 0           0                0   \n",
       "3                 0                 0           0                0   \n",
       "4                 0                 0           0                0   \n",
       "\n",
       "  GROSS SQUARE FEET  YEAR BUILT  TAX CLASS AT TIME OF SALE  \\\n",
       "0                 0           0                          2   \n",
       "1                 0           0                          2   \n",
       "2                 0           0                          2   \n",
       "3                 0           0                          2   \n",
       "4                 0           0                          2   \n",
       "\n",
       "  BUILDING CLASS AT TIME OF SALE SALE\\nPRICE   SALE DATE  \n",
       "0                            R4   $2,214,693  20/05/2013  \n",
       "1                            R4   $1,654,656  16/05/2013  \n",
       "2                            R4   $1,069,162  23/05/2013  \n",
       "3                            R4   $1,374,637  15/05/2013  \n",
       "4                            R4   $1,649,565  13/05/2013  "
      ]
     },
     "execution_count": 28,
     "metadata": {},
     "output_type": "execute_result"
    }
   ],
   "source": [
    "pd.set_option('display.max_columns', None)\n",
    "df = pd.read_csv(\"Manhattan12.csv\", skiprows=4)\n",
    "df.head(5)"
   ]
  },
  {
   "cell_type": "markdown",
   "metadata": {},
   "source": [
    "## Rename the column names by deleting the carriage return"
   ]
  },
  {
   "cell_type": "code",
   "execution_count": 29,
   "metadata": {},
   "outputs": [],
   "source": [
    "df.columns = df.columns.str.replace(\"\\n\", \"\")"
   ]
  },
  {
   "cell_type": "code",
   "execution_count": 30,
   "metadata": {},
   "outputs": [
    {
     "name": "stdout",
     "output_type": "stream",
     "text": [
      "<class 'pandas.core.frame.DataFrame'>\n",
      "RangeIndex: 27395 entries, 0 to 27394\n",
      "Data columns (total 21 columns):\n",
      " #   Column                          Non-Null Count  Dtype \n",
      "---  ------                          --------------  ----- \n",
      " 0   BOROUGH                         27395 non-null  int64 \n",
      " 1   NEIGHBORHOOD                    27395 non-null  object\n",
      " 2   BUILDING CLASS CATEGORY         27395 non-null  object\n",
      " 3   TAX CLASS AT PRESENT            27395 non-null  object\n",
      " 4   BLOCK                           27395 non-null  int64 \n",
      " 5   LOT                             27395 non-null  int64 \n",
      " 6   EASE-MENT                       27395 non-null  object\n",
      " 7   BUILDING CLASS AT PRESENT       27395 non-null  object\n",
      " 8   ADDRESS                         27395 non-null  object\n",
      " 9   APARTMENTNUMBER                 27395 non-null  object\n",
      " 10  ZIP CODE                        27395 non-null  int64 \n",
      " 11  RESIDENTIAL UNITS               27395 non-null  object\n",
      " 12  COMMERCIAL UNITS                27395 non-null  int64 \n",
      " 13  TOTAL UNITS                     27395 non-null  object\n",
      " 14  LAND SQUARE FEET                27395 non-null  object\n",
      " 15  GROSS SQUARE FEET               27395 non-null  object\n",
      " 16  YEAR BUILT                      27395 non-null  int64 \n",
      " 17  TAX CLASS AT TIME OF SALE       27395 non-null  int64 \n",
      " 18  BUILDING CLASS AT TIME OF SALE  27395 non-null  object\n",
      " 19  SALEPRICE                       27395 non-null  object\n",
      " 20  SALE DATE                       27395 non-null  object\n",
      "dtypes: int64(7), object(14)\n",
      "memory usage: 4.4+ MB\n"
     ]
    }
   ],
   "source": [
    "df.info()"
   ]
  },
  {
   "cell_type": "code",
   "execution_count": 35,
   "metadata": {},
   "outputs": [
    {
     "name": "stdout",
     "output_type": "stream",
     "text": [
      "Index(['BOROUGH', 'NEIGHBORHOOD', 'BUILDING CLASS CATEGORY',\n",
      "       'TAX CLASS AT PRESENT', 'BLOCK', 'LOT', 'EASE-MENT',\n",
      "       'BUILDING CLASS AT PRESENT', 'ADDRESS', 'APARTMENTNUMBER', 'ZIP CODE',\n",
      "       'RESIDENTIAL UNITS', 'COMMERCIAL UNITS', 'TOTAL UNITS',\n",
      "       'LAND SQUARE FEET', 'GROSS SQUARE FEET', 'YEAR BUILT',\n",
      "       'TAX CLASS AT TIME OF SALE', 'BUILDING CLASS AT TIME OF SALE',\n",
      "       'SALEPRICE', 'SALE DATE'],\n",
      "      dtype='object')\n"
     ]
    }
   ],
   "source": [
    "print(df.columns)\n"
   ]
  },
  {
   "attachments": {},
   "cell_type": "markdown",
   "metadata": {},
   "source": [
    "Create list of categorical variables and another for the numerical variables"
   ]
  },
  {
   "cell_type": "code",
   "execution_count": 41,
   "metadata": {},
   "outputs": [
    {
     "name": "stdout",
     "output_type": "stream",
     "text": [
      "Categorical columns: ['NEIGHBORHOOD', 'BUILDING CLASS CATEGORY', 'TAX CLASS AT PRESENT', 'EASE-MENT', 'BUILDING CLASS AT PRESENT', 'ADDRESS', 'APARTMENTNUMBER', 'BUILDING CLASS AT TIME OF SALE', 'SALE DATE']\n",
      "Numerical columns: ['BOROUGH', 'BLOCK', 'LOT', 'ZIP CODE', 'RESIDENTIAL UNITS', 'COMMERCIAL UNITS', 'TOTAL UNITS', 'LAND SQUARE FEET', 'GROSS SQUARE FEET', 'YEAR BUILT', 'TAX CLASS AT TIME OF SALE', 'SALEPRICE']\n"
     ]
    }
   ],
   "source": [
    "df.columns = df.columns.str.strip()\n",
    "\n",
    "# Convert numerical columns to numeric type\n",
    "num_vars = ['SALEPRICE', 'LAND SQUARE FEET', 'GROSS SQUARE FEET','COMMERCIAL UNITS','RESIDENTIAL UNITS','TOTAL UNITS']\n",
    "for col in numerical_cols:\n",
    "    df[col] = pd.to_numeric(df[col], errors='coerce')\n",
    "\n",
    "# Categorical and numerical columns\n",
    "cat_vars = df.select_dtypes(include='object').columns.tolist()\n",
    "num_vars = df.select_dtypes(include=['int', 'float']).columns.tolist()\n",
    "\n",
    "print('Categorical columns:', cat_vars)\n",
    "print('Numerical columns:', num_vars)"
   ]
  },
  {
   "cell_type": "markdown",
   "metadata": {},
   "source": [
    "For each categorical variable, remove the spaces, and then replace the empty string '' by NaN."
   ]
  },
  {
   "cell_type": "code",
   "execution_count": 42,
   "metadata": {},
   "outputs": [
    {
     "name": "stdout",
     "output_type": "stream",
     "text": [
      "   BOROUGH NEIGHBORHOOD           BUILDING CLASS CATEGORY  \\\n",
      "0        1          NaN  13  CONDOS - ELEVATOR APARTMENTS   \n",
      "1        1          NaN  13  CONDOS - ELEVATOR APARTMENTS   \n",
      "2        1          NaN  13  CONDOS - ELEVATOR APARTMENTS   \n",
      "3        1          NaN  13  CONDOS - ELEVATOR APARTMENTS   \n",
      "4        1          NaN  13  CONDOS - ELEVATOR APARTMENTS   \n",
      "\n",
      "  TAX CLASS AT PRESENT  BLOCK   LOT  EASE-MENT BUILDING CLASS AT PRESENT  \\\n",
      "0                  NaN    738  1306        NaN                       NaN   \n",
      "1                  NaN    738  1307        NaN                       NaN   \n",
      "2                  NaN    738  1308        NaN                       NaN   \n",
      "3                  NaN    738  1309        NaN                       NaN   \n",
      "4                  NaN    738  1310        NaN                       NaN   \n",
      "\n",
      "                  ADDRESS APARTMENTNUMBER  ZIP CODE  RESIDENTIAL UNITS  \\\n",
      "0  345 WEST 14TH   STREET             NaN     10014                0.0   \n",
      "1  345 WEST 14TH   STREET             NaN     10014                0.0   \n",
      "2  345 WEST 14TH   STREET             NaN     10014                0.0   \n",
      "3  345 WEST 14TH   STREET             NaN     10014                0.0   \n",
      "4  345 WEST 14TH   STREET             NaN     10014                0.0   \n",
      "\n",
      "   COMMERCIAL UNITS  TOTAL UNITS  LAND SQUARE FEET  GROSS SQUARE FEET  \\\n",
      "0                 0          0.0               0.0                0.0   \n",
      "1                 0          0.0               0.0                0.0   \n",
      "2                 0          0.0               0.0                0.0   \n",
      "3                 0          0.0               0.0                0.0   \n",
      "4                 0          0.0               0.0                0.0   \n",
      "\n",
      "   YEAR BUILT  TAX CLASS AT TIME OF SALE BUILDING CLASS AT TIME OF SALE  \\\n",
      "0           0                          2                             R4   \n",
      "1           0                          2                             R4   \n",
      "2           0                          2                             R4   \n",
      "3           0                          2                             R4   \n",
      "4           0                          2                             R4   \n",
      "\n",
      "   SALEPRICE   SALE DATE  \n",
      "0        NaN  20/05/2013  \n",
      "1        NaN  16/05/2013  \n",
      "2        NaN  23/05/2013  \n",
      "3        NaN  15/05/2013  \n",
      "4        NaN  13/05/2013  \n"
     ]
    }
   ],
   "source": [
    "df[cat_vars] = df[cat_vars].apply(lambda x: x.str.strip()).replace('', np.nan)\n",
    "\n",
    "print(df.head())"
   ]
  },
  {
   "cell_type": "code",
   "execution_count": 8,
   "metadata": {},
   "outputs": [
    {
     "data": {
      "text/plain": [
       "(27395, 21)"
      ]
     },
     "execution_count": 8,
     "metadata": {},
     "output_type": "execute_result"
    }
   ],
   "source": [
    "df.shape"
   ]
  },
  {
   "cell_type": "code",
   "execution_count": 9,
   "metadata": {},
   "outputs": [
    {
     "name": "stderr",
     "output_type": "stream",
     "text": [
      "C:\\Users\\Admin\\AppData\\Local\\Temp\\ipykernel_3932\\2076503121.py:1: FutureWarning: The default value of regex will change from True to False in a future version. In addition, single character regular expressions will *not* be treated as literal strings when regex=True.\n",
      "  df[\"SALEPRICE\"] = df[\"SALEPRICE\"].str.replace(\",\",\"\").str.replace(\"$\",\"\").astype(np.int64)\n"
     ]
    }
   ],
   "source": [
    "df[\"SALEPRICE\"] = df[\"SALEPRICE\"].str.replace(\",\",\"\").str.replace(\"$\",\"\").astype(np.int64)"
   ]
  },
  {
   "cell_type": "code",
   "execution_count": 10,
   "metadata": {},
   "outputs": [],
   "source": [
    "cols = ['BOROUGH', 'EASE-MENT', 'APARTMENTNUMBER']\n",
    "\n",
    "df.drop(columns=cols, axis=1, inplace=True)"
   ]
  },
  {
   "cell_type": "code",
   "execution_count": 11,
   "metadata": {},
   "outputs": [],
   "source": [
    "df[\"BUILDING CLASS CATEGORY\"] = df[\"BUILDING CLASS CATEGORY\"].str.strip()"
   ]
  },
  {
   "cell_type": "code",
   "execution_count": 12,
   "metadata": {},
   "outputs": [],
   "source": [
    "df[\"NEIGHBORHOOD\"] = df[\"NEIGHBORHOOD\"].str.strip()"
   ]
  },
  {
   "cell_type": "code",
   "execution_count": 13,
   "metadata": {},
   "outputs": [
    {
     "name": "stderr",
     "output_type": "stream",
     "text": [
      "C:\\Users\\Admin\\AppData\\Local\\Temp\\ipykernel_3932\\355810377.py:1: UserWarning: Parsing dates in DD/MM/YYYY format when dayfirst=False (the default) was specified. This may lead to inconsistently parsed dates! Specify a format to ensure consistent parsing.\n",
      "  df[\"SALE DATE\"] = df[\"SALE DATE\"].astype(np.datetime64)\n"
     ]
    }
   ],
   "source": [
    "df[\"SALE DATE\"] = df[\"SALE DATE\"].astype(np.datetime64)\n"
   ]
  },
  {
   "cell_type": "code",
   "execution_count": 14,
   "metadata": {},
   "outputs": [
    {
     "data": {
      "text/html": [
       "<div>\n",
       "<style scoped>\n",
       "    .dataframe tbody tr th:only-of-type {\n",
       "        vertical-align: middle;\n",
       "    }\n",
       "\n",
       "    .dataframe tbody tr th {\n",
       "        vertical-align: top;\n",
       "    }\n",
       "\n",
       "    .dataframe thead th {\n",
       "        text-align: right;\n",
       "    }\n",
       "</style>\n",
       "<table border=\"1\" class=\"dataframe\">\n",
       "  <thead>\n",
       "    <tr style=\"text-align: right;\">\n",
       "      <th></th>\n",
       "      <th>NEIGHBORHOOD</th>\n",
       "      <th>BUILDING CLASS CATEGORY</th>\n",
       "      <th>TAX CLASS AT PRESENT</th>\n",
       "      <th>BLOCK</th>\n",
       "      <th>LOT</th>\n",
       "      <th>BUILDING CLASS AT PRESENT</th>\n",
       "      <th>ADDRESS</th>\n",
       "      <th>ZIP CODE</th>\n",
       "      <th>RESIDENTIAL UNITS</th>\n",
       "      <th>COMMERCIAL UNITS</th>\n",
       "      <th>TOTAL UNITS</th>\n",
       "      <th>LAND SQUARE FEET</th>\n",
       "      <th>GROSS SQUARE FEET</th>\n",
       "      <th>YEAR BUILT</th>\n",
       "      <th>TAX CLASS AT TIME OF SALE</th>\n",
       "      <th>BUILDING CLASS AT TIME OF SALE</th>\n",
       "      <th>SALEPRICE</th>\n",
       "      <th>SALE DATE</th>\n",
       "    </tr>\n",
       "  </thead>\n",
       "  <tbody>\n",
       "    <tr>\n",
       "      <th>0</th>\n",
       "      <td>NaN</td>\n",
       "      <td>13  CONDOS - ELEVATOR APARTMENTS</td>\n",
       "      <td>NaN</td>\n",
       "      <td>738</td>\n",
       "      <td>1306</td>\n",
       "      <td>NaN</td>\n",
       "      <td>345 WEST 14TH   STREET</td>\n",
       "      <td>10014</td>\n",
       "      <td>0</td>\n",
       "      <td>0</td>\n",
       "      <td>0</td>\n",
       "      <td>0</td>\n",
       "      <td>0</td>\n",
       "      <td>0</td>\n",
       "      <td>2</td>\n",
       "      <td>R4</td>\n",
       "      <td>2214693</td>\n",
       "      <td>2013-05-20</td>\n",
       "    </tr>\n",
       "    <tr>\n",
       "      <th>1</th>\n",
       "      <td>NaN</td>\n",
       "      <td>13  CONDOS - ELEVATOR APARTMENTS</td>\n",
       "      <td>NaN</td>\n",
       "      <td>738</td>\n",
       "      <td>1307</td>\n",
       "      <td>NaN</td>\n",
       "      <td>345 WEST 14TH   STREET</td>\n",
       "      <td>10014</td>\n",
       "      <td>0</td>\n",
       "      <td>0</td>\n",
       "      <td>0</td>\n",
       "      <td>0</td>\n",
       "      <td>0</td>\n",
       "      <td>0</td>\n",
       "      <td>2</td>\n",
       "      <td>R4</td>\n",
       "      <td>1654656</td>\n",
       "      <td>2013-05-16</td>\n",
       "    </tr>\n",
       "    <tr>\n",
       "      <th>2</th>\n",
       "      <td>NaN</td>\n",
       "      <td>13  CONDOS - ELEVATOR APARTMENTS</td>\n",
       "      <td>NaN</td>\n",
       "      <td>738</td>\n",
       "      <td>1308</td>\n",
       "      <td>NaN</td>\n",
       "      <td>345 WEST 14TH   STREET</td>\n",
       "      <td>10014</td>\n",
       "      <td>0</td>\n",
       "      <td>0</td>\n",
       "      <td>0</td>\n",
       "      <td>0</td>\n",
       "      <td>0</td>\n",
       "      <td>0</td>\n",
       "      <td>2</td>\n",
       "      <td>R4</td>\n",
       "      <td>1069162</td>\n",
       "      <td>2013-05-23</td>\n",
       "    </tr>\n",
       "    <tr>\n",
       "      <th>3</th>\n",
       "      <td>NaN</td>\n",
       "      <td>13  CONDOS - ELEVATOR APARTMENTS</td>\n",
       "      <td>NaN</td>\n",
       "      <td>738</td>\n",
       "      <td>1309</td>\n",
       "      <td>NaN</td>\n",
       "      <td>345 WEST 14TH   STREET</td>\n",
       "      <td>10014</td>\n",
       "      <td>0</td>\n",
       "      <td>0</td>\n",
       "      <td>0</td>\n",
       "      <td>0</td>\n",
       "      <td>0</td>\n",
       "      <td>0</td>\n",
       "      <td>2</td>\n",
       "      <td>R4</td>\n",
       "      <td>1374637</td>\n",
       "      <td>2013-05-15</td>\n",
       "    </tr>\n",
       "    <tr>\n",
       "      <th>4</th>\n",
       "      <td>NaN</td>\n",
       "      <td>13  CONDOS - ELEVATOR APARTMENTS</td>\n",
       "      <td>NaN</td>\n",
       "      <td>738</td>\n",
       "      <td>1310</td>\n",
       "      <td>NaN</td>\n",
       "      <td>345 WEST 14TH   STREET</td>\n",
       "      <td>10014</td>\n",
       "      <td>0</td>\n",
       "      <td>0</td>\n",
       "      <td>0</td>\n",
       "      <td>0</td>\n",
       "      <td>0</td>\n",
       "      <td>0</td>\n",
       "      <td>2</td>\n",
       "      <td>R4</td>\n",
       "      <td>1649565</td>\n",
       "      <td>2013-05-13</td>\n",
       "    </tr>\n",
       "  </tbody>\n",
       "</table>\n",
       "</div>"
      ],
      "text/plain": [
       "  NEIGHBORHOOD           BUILDING CLASS CATEGORY TAX CLASS AT PRESENT  BLOCK  \\\n",
       "0          NaN  13  CONDOS - ELEVATOR APARTMENTS                  NaN    738   \n",
       "1          NaN  13  CONDOS - ELEVATOR APARTMENTS                  NaN    738   \n",
       "2          NaN  13  CONDOS - ELEVATOR APARTMENTS                  NaN    738   \n",
       "3          NaN  13  CONDOS - ELEVATOR APARTMENTS                  NaN    738   \n",
       "4          NaN  13  CONDOS - ELEVATOR APARTMENTS                  NaN    738   \n",
       "\n",
       "    LOT BUILDING CLASS AT PRESENT                 ADDRESS  ZIP CODE  \\\n",
       "0  1306                       NaN  345 WEST 14TH   STREET     10014   \n",
       "1  1307                       NaN  345 WEST 14TH   STREET     10014   \n",
       "2  1308                       NaN  345 WEST 14TH   STREET     10014   \n",
       "3  1309                       NaN  345 WEST 14TH   STREET     10014   \n",
       "4  1310                       NaN  345 WEST 14TH   STREET     10014   \n",
       "\n",
       "  RESIDENTIAL UNITS  COMMERCIAL UNITS TOTAL UNITS LAND SQUARE FEET  \\\n",
       "0                 0                 0           0                0   \n",
       "1                 0                 0           0                0   \n",
       "2                 0                 0           0                0   \n",
       "3                 0                 0           0                0   \n",
       "4                 0                 0           0                0   \n",
       "\n",
       "  GROSS SQUARE FEET  YEAR BUILT  TAX CLASS AT TIME OF SALE  \\\n",
       "0                 0           0                          2   \n",
       "1                 0           0                          2   \n",
       "2                 0           0                          2   \n",
       "3                 0           0                          2   \n",
       "4                 0           0                          2   \n",
       "\n",
       "  BUILDING CLASS AT TIME OF SALE  SALEPRICE  SALE DATE  \n",
       "0                             R4    2214693 2013-05-20  \n",
       "1                             R4    1654656 2013-05-16  \n",
       "2                             R4    1069162 2013-05-23  \n",
       "3                             R4    1374637 2013-05-15  \n",
       "4                             R4    1649565 2013-05-13  "
      ]
     },
     "execution_count": 14,
     "metadata": {},
     "output_type": "execute_result"
    }
   ],
   "source": [
    "df.head()"
   ]
  },
  {
   "cell_type": "markdown",
   "metadata": {},
   "source": [
    "Replace the zeros in Prices, Land squares, etc. by NaN"
   ]
  },
  {
   "cell_type": "code",
   "execution_count": 44,
   "metadata": {},
   "outputs": [],
   "source": [
    "df[num_vars] = df[num_vars].replace(0, np.nan)"
   ]
  },
  {
   "attachments": {},
   "cell_type": "markdown",
   "metadata": {},
   "source": [
    "Show a summary of all missing values as well as the summary statistics"
   ]
  },
  {
   "cell_type": "code",
   "execution_count": 45,
   "metadata": {},
   "outputs": [
    {
     "name": "stdout",
     "output_type": "stream",
     "text": [
      "Summary of missing values:\n",
      " BOROUGH                               0\n",
      "NEIGHBORHOOD                         17\n",
      "BUILDING CLASS CATEGORY            3454\n",
      "TAX CLASS AT PRESENT                143\n",
      "BLOCK                                 0\n",
      "LOT                                   0\n",
      "EASE-MENT                         27395\n",
      "BUILDING CLASS AT PRESENT           143\n",
      "ADDRESS                               0\n",
      "APARTMENTNUMBER                   14570\n",
      "ZIP CODE                              1\n",
      "RESIDENTIAL UNITS                 16373\n",
      "COMMERCIAL UNITS                  23962\n",
      "TOTAL UNITS                        9705\n",
      "LAND SQUARE FEET                  27326\n",
      "GROSS SQUARE FEET                 27389\n",
      "YEAR BUILT                         6441\n",
      "TAX CLASS AT TIME OF SALE             0\n",
      "BUILDING CLASS AT TIME OF SALE        0\n",
      "SALEPRICE                         27395\n",
      "SALE DATE                             0\n",
      "dtype: int64\n",
      "\n",
      "Summary statistics:\n",
      "        BOROUGH         BLOCK           LOT  EASE-MENT      ZIP CODE  \\\n",
      "count  27395.0  27395.000000  27395.000000        0.0  27394.000000   \n",
      "mean       1.0   1109.666728    741.789086        NaN  10029.226217   \n",
      "std        0.0    465.994469    819.422424        NaN     34.966983   \n",
      "min        1.0      7.000000      1.000000        NaN  10001.000000   \n",
      "25%        1.0    877.000000     37.000000        NaN  10016.000000   \n",
      "50%        1.0   1047.000000   1007.000000        NaN  10019.000000   \n",
      "75%        1.0   1411.000000   1233.000000        NaN  10027.000000   \n",
      "max        1.0   2250.000000   9117.000000        NaN  10463.000000   \n",
      "\n",
      "       RESIDENTIAL UNITS  COMMERCIAL UNITS   TOTAL UNITS  LAND SQUARE FEET  \\\n",
      "count       11022.000000       3433.000000  17690.000000         69.000000   \n",
      "mean            4.269915          2.992426      3.469192        800.811594   \n",
      "std            19.548320         12.689861     16.651017        158.830494   \n",
      "min             1.000000          1.000000      1.000000        200.000000   \n",
      "25%             1.000000          1.000000      1.000000        750.000000   \n",
      "50%             1.000000          2.000000      1.000000        840.000000   \n",
      "75%             1.000000          2.000000      1.000000        915.000000   \n",
      "max           904.000000        604.000000    904.000000        997.000000   \n",
      "\n",
      "       GROSS SQUARE FEET    YEAR BUILT  TAX CLASS AT TIME OF SALE  SALEPRICE  \n",
      "count           6.000000  20954.000000               27395.000000        0.0  \n",
      "mean          657.666667   1953.080557                   2.488118        NaN  \n",
      "std           282.008983     37.692641                   0.891723        NaN  \n",
      "min           253.000000   1000.000000                   1.000000        NaN  \n",
      "25%           535.500000   1920.000000                   2.000000        NaN  \n",
      "50%           612.000000   1955.000000                   2.000000        NaN  \n",
      "75%           873.000000   1987.000000                   4.000000        NaN  \n",
      "max           999.000000   2013.000000                   4.000000        NaN  \n"
     ]
    }
   ],
   "source": [
    "print(\"Summary of missing values:\\n\", df.isnull().sum())\n",
    "print(\"\\nSummary statistics:\\n\", df.describe())"
   ]
  },
  {
   "attachments": {},
   "cell_type": "markdown",
   "metadata": {},
   "source": [
    "Drop the columns 'BOROUGH', 'EASE-MENT', 'APARTMENT NUMBER'"
   ]
  },
  {
   "cell_type": "code",
   "execution_count": 47,
   "metadata": {},
   "outputs": [],
   "source": [
    "df = df.drop(columns=['BOROUGH', 'EASE-MENT', 'APARTMENTNUMBER'])"
   ]
  },
  {
   "attachments": {},
   "cell_type": "markdown",
   "metadata": {},
   "source": [
    "Drop duplicates if any"
   ]
  },
  {
   "cell_type": "code",
   "execution_count": 48,
   "metadata": {},
   "outputs": [
    {
     "data": {
      "text/plain": [
       "(24413, 18)"
      ]
     },
     "execution_count": 48,
     "metadata": {},
     "output_type": "execute_result"
    }
   ],
   "source": [
    "df.drop_duplicates(inplace=True)\n",
    "df.shape"
   ]
  },
  {
   "attachments": {},
   "cell_type": "markdown",
   "metadata": {},
   "source": [
    "Drop rows with NaN values"
   ]
  },
  {
   "cell_type": "code",
   "execution_count": 49,
   "metadata": {},
   "outputs": [
    {
     "name": "stdout",
     "output_type": "stream",
     "text": [
      "Empty DataFrame\n",
      "Columns: [NEIGHBORHOOD, BUILDING CLASS CATEGORY, TAX CLASS AT PRESENT, BLOCK, LOT, BUILDING CLASS AT PRESENT, ADDRESS, ZIP CODE, RESIDENTIAL UNITS, COMMERCIAL UNITS, TOTAL UNITS, LAND SQUARE FEET, GROSS SQUARE FEET, YEAR BUILT, TAX CLASS AT TIME OF SALE, BUILDING CLASS AT TIME OF SALE, SALEPRICE, SALE DATE]\n",
      "Index: []\n"
     ]
    }
   ],
   "source": [
    "df=df.dropna()"
   ]
  },
  {
   "attachments": {},
   "cell_type": "markdown",
   "metadata": {},
   "source": [
    "Identify and remove outliers if any"
   ]
  },
  {
   "cell_type": "code",
   "execution_count": 51,
   "metadata": {},
   "outputs": [],
   "source": [
    "df = df[df['SALEPRICE'] < df['SALEPRICE'].quantile(0.99)]"
   ]
  },
  {
   "cell_type": "code",
   "execution_count": 52,
   "metadata": {},
   "outputs": [
    {
     "name": "stdout",
     "output_type": "stream",
     "text": [
      "\n",
      "Shape of the resulting dataframe: (0, 18)\n"
     ]
    }
   ],
   "source": [
    "print(\"\\nShape of the resulting dataframe:\", df.shape)\n"
   ]
  },
  {
   "attachments": {},
   "cell_type": "markdown",
   "metadata": {},
   "source": [
    "•\tConsider the log of the prices and normalise the data."
   ]
  },
  {
   "cell_type": "code",
   "execution_count": 57,
   "metadata": {},
   "outputs": [
    {
     "ename": "KeyError",
     "evalue": "\"None of [Index(['GROSS_SQUARE_FEET', 'LAND_SQUARE_FEET', 'YEAR_BUILT'], dtype='object')] are in the [columns]\"",
     "output_type": "error",
     "traceback": [
      "\u001b[1;31m---------------------------------------------------------------------------\u001b[0m",
      "\u001b[1;31mKeyError\u001b[0m                                  Traceback (most recent call last)",
      "Cell \u001b[1;32mIn[57], line 2\u001b[0m\n\u001b[0;32m      1\u001b[0m df[\u001b[39m'\u001b[39m\u001b[39mLOG_SALE_PRICE\u001b[39m\u001b[39m'\u001b[39m] \u001b[39m=\u001b[39m np\u001b[39m.\u001b[39mlog(df[\u001b[39m'\u001b[39m\u001b[39mSALEPRICE\u001b[39m\u001b[39m'\u001b[39m])\n\u001b[1;32m----> 2\u001b[0m df[num_vars] \u001b[39m=\u001b[39m (df[num_vars] \u001b[39m-\u001b[39m df[num_vars]\u001b[39m.\u001b[39mmean()) \u001b[39m/\u001b[39m df[num_vars]\u001b[39m.\u001b[39mstd()\n",
      "File \u001b[1;32mc:\\Users\\Admin\\anaconda3\\envs\\big-data\\lib\\site-packages\\pandas\\core\\frame.py:3813\u001b[0m, in \u001b[0;36mDataFrame.__getitem__\u001b[1;34m(self, key)\u001b[0m\n\u001b[0;32m   3811\u001b[0m     \u001b[39mif\u001b[39;00m is_iterator(key):\n\u001b[0;32m   3812\u001b[0m         key \u001b[39m=\u001b[39m \u001b[39mlist\u001b[39m(key)\n\u001b[1;32m-> 3813\u001b[0m     indexer \u001b[39m=\u001b[39m \u001b[39mself\u001b[39;49m\u001b[39m.\u001b[39;49mcolumns\u001b[39m.\u001b[39;49m_get_indexer_strict(key, \u001b[39m\"\u001b[39;49m\u001b[39mcolumns\u001b[39;49m\u001b[39m\"\u001b[39;49m)[\u001b[39m1\u001b[39m]\n\u001b[0;32m   3815\u001b[0m \u001b[39m# take() does not accept boolean indexers\u001b[39;00m\n\u001b[0;32m   3816\u001b[0m \u001b[39mif\u001b[39;00m \u001b[39mgetattr\u001b[39m(indexer, \u001b[39m\"\u001b[39m\u001b[39mdtype\u001b[39m\u001b[39m\"\u001b[39m, \u001b[39mNone\u001b[39;00m) \u001b[39m==\u001b[39m \u001b[39mbool\u001b[39m:\n",
      "File \u001b[1;32mc:\\Users\\Admin\\anaconda3\\envs\\big-data\\lib\\site-packages\\pandas\\core\\indexes\\base.py:6070\u001b[0m, in \u001b[0;36mIndex._get_indexer_strict\u001b[1;34m(self, key, axis_name)\u001b[0m\n\u001b[0;32m   6067\u001b[0m \u001b[39melse\u001b[39;00m:\n\u001b[0;32m   6068\u001b[0m     keyarr, indexer, new_indexer \u001b[39m=\u001b[39m \u001b[39mself\u001b[39m\u001b[39m.\u001b[39m_reindex_non_unique(keyarr)\n\u001b[1;32m-> 6070\u001b[0m \u001b[39mself\u001b[39;49m\u001b[39m.\u001b[39;49m_raise_if_missing(keyarr, indexer, axis_name)\n\u001b[0;32m   6072\u001b[0m keyarr \u001b[39m=\u001b[39m \u001b[39mself\u001b[39m\u001b[39m.\u001b[39mtake(indexer)\n\u001b[0;32m   6073\u001b[0m \u001b[39mif\u001b[39;00m \u001b[39misinstance\u001b[39m(key, Index):\n\u001b[0;32m   6074\u001b[0m     \u001b[39m# GH 42790 - Preserve name from an Index\u001b[39;00m\n",
      "File \u001b[1;32mc:\\Users\\Admin\\anaconda3\\envs\\big-data\\lib\\site-packages\\pandas\\core\\indexes\\base.py:6130\u001b[0m, in \u001b[0;36mIndex._raise_if_missing\u001b[1;34m(self, key, indexer, axis_name)\u001b[0m\n\u001b[0;32m   6128\u001b[0m     \u001b[39mif\u001b[39;00m use_interval_msg:\n\u001b[0;32m   6129\u001b[0m         key \u001b[39m=\u001b[39m \u001b[39mlist\u001b[39m(key)\n\u001b[1;32m-> 6130\u001b[0m     \u001b[39mraise\u001b[39;00m \u001b[39mKeyError\u001b[39;00m(\u001b[39mf\u001b[39m\u001b[39m\"\u001b[39m\u001b[39mNone of [\u001b[39m\u001b[39m{\u001b[39;00mkey\u001b[39m}\u001b[39;00m\u001b[39m] are in the [\u001b[39m\u001b[39m{\u001b[39;00maxis_name\u001b[39m}\u001b[39;00m\u001b[39m]\u001b[39m\u001b[39m\"\u001b[39m)\n\u001b[0;32m   6132\u001b[0m not_found \u001b[39m=\u001b[39m \u001b[39mlist\u001b[39m(ensure_index(key)[missing_mask\u001b[39m.\u001b[39mnonzero()[\u001b[39m0\u001b[39m]]\u001b[39m.\u001b[39munique())\n\u001b[0;32m   6133\u001b[0m \u001b[39mraise\u001b[39;00m \u001b[39mKeyError\u001b[39;00m(\u001b[39mf\u001b[39m\u001b[39m\"\u001b[39m\u001b[39m{\u001b[39;00mnot_found\u001b[39m}\u001b[39;00m\u001b[39m not in index\u001b[39m\u001b[39m\"\u001b[39m)\n",
      "\u001b[1;31mKeyError\u001b[0m: \"None of [Index(['GROSS_SQUARE_FEET', 'LAND_SQUARE_FEET', 'YEAR_BUILT'], dtype='object')] are in the [columns]\""
     ]
    }
   ],
   "source": [
    "df['LOG_SALE_PRICE'] = np.log(df['SALEPRICE'])\n",
    "df[num_vars] = (df[num_vars] - df[num_vars].mean()) / df[num_vars].std()\n"
   ]
  },
  {
   "cell_type": "code",
   "execution_count": null,
   "metadata": {},
   "outputs": [],
   "source": []
  }
 ],
 "metadata": {
  "kernelspec": {
   "display_name": "Python 3 (ipykernel)",
   "language": "python",
   "name": "python3"
  },
  "language_info": {
   "codemirror_mode": {
    "name": "ipython",
    "version": 3
   },
   "file_extension": ".py",
   "mimetype": "text/x-python",
   "name": "python",
   "nbconvert_exporter": "python",
   "pygments_lexer": "ipython3",
   "version": "3.10.9"
  },
  "vscode": {
   "interpreter": {
    "hash": "d6e11ff7d04ba6e29ce357c983ef8bd505bb7d67c8c202b008a2bca7dea6b985"
   }
  }
 },
 "nbformat": 4,
 "nbformat_minor": 2
}

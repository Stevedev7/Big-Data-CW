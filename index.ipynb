{
 "cells": [
  {
   "cell_type": "markdown",
   "metadata": {},
   "source": [
    "# Import packages"
   ]
  },
  {
   "cell_type": "code",
   "execution_count": 166,
   "metadata": {},
   "outputs": [],
   "source": [
    "import pandas as pd\n",
    "import numpy as np\n",
    "from matplotlib import pyplot as plt\n",
    "import seaborn as sns"
   ]
  },
  {
   "cell_type": "markdown",
   "metadata": {},
   "source": [
    "# Read dataset\n",
    "### Read dataset into dataframes and display the 1st 5 rows"
   ]
  },
  {
   "cell_type": "code",
   "execution_count": 167,
   "metadata": {},
   "outputs": [
    {
     "data": {
      "text/html": [
       "<div>\n",
       "<style scoped>\n",
       "    .dataframe tbody tr th:only-of-type {\n",
       "        vertical-align: middle;\n",
       "    }\n",
       "\n",
       "    .dataframe tbody tr th {\n",
       "        vertical-align: top;\n",
       "    }\n",
       "\n",
       "    .dataframe thead th {\n",
       "        text-align: right;\n",
       "    }\n",
       "</style>\n",
       "<table border=\"1\" class=\"dataframe\">\n",
       "  <thead>\n",
       "    <tr style=\"text-align: right;\">\n",
       "      <th></th>\n",
       "      <th>BOROUGH</th>\n",
       "      <th>NEIGHBORHOOD</th>\n",
       "      <th>BUILDING CLASS CATEGORY</th>\n",
       "      <th>TAX CLASS AT PRESENT</th>\n",
       "      <th>BLOCK</th>\n",
       "      <th>LOT</th>\n",
       "      <th>EASE-MENT</th>\n",
       "      <th>BUILDING CLASS AT PRESENT</th>\n",
       "      <th>ADDRESS</th>\n",
       "      <th>APART\\nMENT\\nNUMBER</th>\n",
       "      <th>ZIP CODE</th>\n",
       "      <th>RESIDENTIAL UNITS</th>\n",
       "      <th>COMMERCIAL UNITS</th>\n",
       "      <th>TOTAL UNITS</th>\n",
       "      <th>LAND SQUARE FEET</th>\n",
       "      <th>GROSS SQUARE FEET</th>\n",
       "      <th>YEAR BUILT</th>\n",
       "      <th>TAX CLASS AT TIME OF SALE</th>\n",
       "      <th>BUILDING CLASS AT TIME OF SALE</th>\n",
       "      <th>SALE\\nPRICE</th>\n",
       "      <th>SALE DATE</th>\n",
       "    </tr>\n",
       "  </thead>\n",
       "  <tbody>\n",
       "    <tr>\n",
       "      <th>0</th>\n",
       "      <td>1</td>\n",
       "      <td></td>\n",
       "      <td>13  CONDOS - ELEVATOR APARTMENTS</td>\n",
       "      <td></td>\n",
       "      <td>738</td>\n",
       "      <td>1306</td>\n",
       "      <td></td>\n",
       "      <td></td>\n",
       "      <td>345 WEST 14TH   STREET</td>\n",
       "      <td></td>\n",
       "      <td>10014</td>\n",
       "      <td>0</td>\n",
       "      <td>0</td>\n",
       "      <td>0</td>\n",
       "      <td>0</td>\n",
       "      <td>0</td>\n",
       "      <td>0</td>\n",
       "      <td>2</td>\n",
       "      <td>R4</td>\n",
       "      <td>$2,214,693</td>\n",
       "      <td>20/05/2013</td>\n",
       "    </tr>\n",
       "    <tr>\n",
       "      <th>1</th>\n",
       "      <td>1</td>\n",
       "      <td></td>\n",
       "      <td>13  CONDOS - ELEVATOR APARTMENTS</td>\n",
       "      <td></td>\n",
       "      <td>738</td>\n",
       "      <td>1307</td>\n",
       "      <td></td>\n",
       "      <td></td>\n",
       "      <td>345 WEST 14TH   STREET</td>\n",
       "      <td></td>\n",
       "      <td>10014</td>\n",
       "      <td>0</td>\n",
       "      <td>0</td>\n",
       "      <td>0</td>\n",
       "      <td>0</td>\n",
       "      <td>0</td>\n",
       "      <td>0</td>\n",
       "      <td>2</td>\n",
       "      <td>R4</td>\n",
       "      <td>$1,654,656</td>\n",
       "      <td>16/05/2013</td>\n",
       "    </tr>\n",
       "    <tr>\n",
       "      <th>2</th>\n",
       "      <td>1</td>\n",
       "      <td></td>\n",
       "      <td>13  CONDOS - ELEVATOR APARTMENTS</td>\n",
       "      <td></td>\n",
       "      <td>738</td>\n",
       "      <td>1308</td>\n",
       "      <td></td>\n",
       "      <td></td>\n",
       "      <td>345 WEST 14TH   STREET</td>\n",
       "      <td></td>\n",
       "      <td>10014</td>\n",
       "      <td>0</td>\n",
       "      <td>0</td>\n",
       "      <td>0</td>\n",
       "      <td>0</td>\n",
       "      <td>0</td>\n",
       "      <td>0</td>\n",
       "      <td>2</td>\n",
       "      <td>R4</td>\n",
       "      <td>$1,069,162</td>\n",
       "      <td>23/05/2013</td>\n",
       "    </tr>\n",
       "    <tr>\n",
       "      <th>3</th>\n",
       "      <td>1</td>\n",
       "      <td></td>\n",
       "      <td>13  CONDOS - ELEVATOR APARTMENTS</td>\n",
       "      <td></td>\n",
       "      <td>738</td>\n",
       "      <td>1309</td>\n",
       "      <td></td>\n",
       "      <td></td>\n",
       "      <td>345 WEST 14TH   STREET</td>\n",
       "      <td></td>\n",
       "      <td>10014</td>\n",
       "      <td>0</td>\n",
       "      <td>0</td>\n",
       "      <td>0</td>\n",
       "      <td>0</td>\n",
       "      <td>0</td>\n",
       "      <td>0</td>\n",
       "      <td>2</td>\n",
       "      <td>R4</td>\n",
       "      <td>$1,374,637</td>\n",
       "      <td>15/05/2013</td>\n",
       "    </tr>\n",
       "    <tr>\n",
       "      <th>4</th>\n",
       "      <td>1</td>\n",
       "      <td></td>\n",
       "      <td>13  CONDOS - ELEVATOR APARTMENTS</td>\n",
       "      <td></td>\n",
       "      <td>738</td>\n",
       "      <td>1310</td>\n",
       "      <td></td>\n",
       "      <td></td>\n",
       "      <td>345 WEST 14TH   STREET</td>\n",
       "      <td></td>\n",
       "      <td>10014</td>\n",
       "      <td>0</td>\n",
       "      <td>0</td>\n",
       "      <td>0</td>\n",
       "      <td>0</td>\n",
       "      <td>0</td>\n",
       "      <td>0</td>\n",
       "      <td>2</td>\n",
       "      <td>R4</td>\n",
       "      <td>$1,649,565</td>\n",
       "      <td>13/05/2013</td>\n",
       "    </tr>\n",
       "  </tbody>\n",
       "</table>\n",
       "</div>"
      ],
      "text/plain": [
       "   BOROUGH               NEIGHBORHOOD  \\\n",
       "0        1                              \n",
       "1        1                              \n",
       "2        1                              \n",
       "3        1                              \n",
       "4        1                              \n",
       "\n",
       "                        BUILDING CLASS CATEGORY TAX CLASS AT PRESENT  BLOCK  \\\n",
       "0  13  CONDOS - ELEVATOR APARTMENTS                                     738   \n",
       "1  13  CONDOS - ELEVATOR APARTMENTS                                     738   \n",
       "2  13  CONDOS - ELEVATOR APARTMENTS                                     738   \n",
       "3  13  CONDOS - ELEVATOR APARTMENTS                                     738   \n",
       "4  13  CONDOS - ELEVATOR APARTMENTS                                     738   \n",
       "\n",
       "    LOT EASE-MENT BUILDING CLASS AT PRESENT  \\\n",
       "0  1306                                       \n",
       "1  1307                                       \n",
       "2  1308                                       \n",
       "3  1309                                       \n",
       "4  1310                                       \n",
       "\n",
       "                                       ADDRESS APART\\nMENT\\nNUMBER  ZIP CODE  \\\n",
       "0   345 WEST 14TH   STREET                                             10014   \n",
       "1   345 WEST 14TH   STREET                                             10014   \n",
       "2   345 WEST 14TH   STREET                                             10014   \n",
       "3   345 WEST 14TH   STREET                                             10014   \n",
       "4   345 WEST 14TH   STREET                                             10014   \n",
       "\n",
       "  RESIDENTIAL UNITS  COMMERCIAL UNITS TOTAL UNITS LAND SQUARE FEET  \\\n",
       "0                 0                 0           0                0   \n",
       "1                 0                 0           0                0   \n",
       "2                 0                 0           0                0   \n",
       "3                 0                 0           0                0   \n",
       "4                 0                 0           0                0   \n",
       "\n",
       "  GROSS SQUARE FEET  YEAR BUILT  TAX CLASS AT TIME OF SALE  \\\n",
       "0                 0           0                          2   \n",
       "1                 0           0                          2   \n",
       "2                 0           0                          2   \n",
       "3                 0           0                          2   \n",
       "4                 0           0                          2   \n",
       "\n",
       "  BUILDING CLASS AT TIME OF SALE SALE\\nPRICE   SALE DATE  \n",
       "0                            R4   $2,214,693  20/05/2013  \n",
       "1                            R4   $1,654,656  16/05/2013  \n",
       "2                            R4   $1,069,162  23/05/2013  \n",
       "3                            R4   $1,374,637  15/05/2013  \n",
       "4                            R4   $1,649,565  13/05/2013  "
      ]
     },
     "execution_count": 167,
     "metadata": {},
     "output_type": "execute_result"
    }
   ],
   "source": [
    "pd.set_option('display.max_columns', None)\n",
    "df = pd.read_csv(\"Manhattan12.csv\", skiprows=4)\n",
    "df.head(5)"
   ]
  },
  {
   "cell_type": "code",
   "execution_count": 168,
   "metadata": {},
   "outputs": [
    {
     "name": "stdout",
     "output_type": "stream",
     "text": [
      "<class 'pandas.core.frame.DataFrame'>\n",
      "RangeIndex: 27395 entries, 0 to 27394\n",
      "Data columns (total 21 columns):\n",
      " #   Column                          Non-Null Count  Dtype \n",
      "---  ------                          --------------  ----- \n",
      " 0   BOROUGH                         27395 non-null  int64 \n",
      " 1   NEIGHBORHOOD                    27395 non-null  object\n",
      " 2   BUILDING CLASS CATEGORY         27395 non-null  object\n",
      " 3   TAX CLASS AT PRESENT            27395 non-null  object\n",
      " 4   BLOCK                           27395 non-null  int64 \n",
      " 5   LOT                             27395 non-null  int64 \n",
      " 6   EASE-MENT                       27395 non-null  object\n",
      " 7   BUILDING CLASS AT PRESENT       27395 non-null  object\n",
      " 8   ADDRESS                         27395 non-null  object\n",
      " 9   APART\n",
      "MENT\n",
      "NUMBER               27395 non-null  object\n",
      " 10  ZIP CODE                        27395 non-null  int64 \n",
      " 11  RESIDENTIAL UNITS               27395 non-null  object\n",
      " 12  COMMERCIAL UNITS                27395 non-null  int64 \n",
      " 13  TOTAL UNITS                     27395 non-null  object\n",
      " 14  LAND SQUARE FEET                27395 non-null  object\n",
      " 15  GROSS SQUARE FEET               27395 non-null  object\n",
      " 16  YEAR BUILT                      27395 non-null  int64 \n",
      " 17  TAX CLASS AT TIME OF SALE       27395 non-null  int64 \n",
      " 18  BUILDING CLASS AT TIME OF SALE  27395 non-null  object\n",
      " 19  SALE\n",
      "PRICE                      27395 non-null  object\n",
      " 20  SALE DATE                       27395 non-null  object\n",
      "dtypes: int64(7), object(14)\n",
      "memory usage: 4.4+ MB\n"
     ]
    }
   ],
   "source": [
    "df.info()"
   ]
  },
  {
   "cell_type": "code",
   "execution_count": 169,
   "metadata": {},
   "outputs": [
    {
     "name": "stderr",
     "output_type": "stream",
     "text": [
      "/var/folders/4m/__j4737x1p73lg1hgfht7tnm0000gn/T/ipykernel_47088/2674278097.py:5: FutureWarning: The default value of regex will change from True to False in a future version. In addition, single character regular expressions will *not* be treated as literal strings when regex=True.\n",
      "  df[col] = df[col].str.replace(\",\",\"\").str.replace(\"$\",\"\").astype(dtype)\n"
     ]
    }
   ],
   "source": [
    "# Dtype conversion\n",
    "df.columns = df.columns.str.strip().str.replace(\"\\n\", \"\")\n",
    "\n",
    "def format_and_convert_column_to_numeric(col, dtype):\n",
    "    df[col] = df[col].str.replace(\",\",\"\").str.replace(\"$\",\"\").astype(dtype)\n",
    "    \n",
    "format_and_convert_column_to_numeric('SALEPRICE', np.int64)\n",
    "format_and_convert_column_to_numeric('GROSS SQUARE FEET', np.float64)\n",
    "format_and_convert_column_to_numeric('LAND SQUARE FEET', np.float64)\n",
    "format_and_convert_column_to_numeric('RESIDENTIAL UNITS', np.int64)\n",
    "format_and_convert_column_to_numeric('TOTAL UNITS', np.int64)\n",
    "\n",
    "# Convert To datetime\n",
    "df['SALE DATE'] =pd.to_datetime(df['SALE DATE'], dayfirst=True)\n",
    "\n",
    "df['YEAR BUILT'] = df['YEAR BUILT'].astype(np.int64)"
   ]
  },
  {
   "cell_type": "code",
   "execution_count": 170,
   "metadata": {},
   "outputs": [
    {
     "name": "stdout",
     "output_type": "stream",
     "text": [
      "Categorical columns:  ['NEIGHBORHOOD', 'BUILDING CLASS CATEGORY', 'TAX CLASS AT PRESENT', 'EASE-MENT', 'BUILDING CLASS AT PRESENT', 'ADDRESS', 'APARTMENTNUMBER', 'BUILDING CLASS AT TIME OF SALE']\n",
      "Numerical columns:  ['BOROUGH', 'BLOCK', 'LOT', 'ZIP CODE', 'RESIDENTIAL UNITS', 'COMMERCIAL UNITS', 'TOTAL UNITS', 'LAND SQUARE FEET', 'GROSS SQUARE FEET', 'YEAR BUILT', 'TAX CLASS AT TIME OF SALE', 'SALEPRICE']\n"
     ]
    }
   ],
   "source": [
    "cat_vars = df.select_dtypes(include='object').columns.tolist()\n",
    "num_vars = df.select_dtypes(include=['int', 'float']).columns.tolist()\n",
    "print(\"Categorical columns: \", cat_vars)\n",
    "print(\"Numerical columns: \", num_vars)"
   ]
  },
  {
   "cell_type": "code",
   "execution_count": 171,
   "metadata": {},
   "outputs": [
    {
     "name": "stdout",
     "output_type": "stream",
     "text": [
      "<class 'pandas.core.frame.DataFrame'>\n",
      "RangeIndex: 27395 entries, 0 to 27394\n",
      "Data columns (total 21 columns):\n",
      " #   Column                          Non-Null Count  Dtype         \n",
      "---  ------                          --------------  -----         \n",
      " 0   BOROUGH                         27395 non-null  int64         \n",
      " 1   NEIGHBORHOOD                    27378 non-null  object        \n",
      " 2   BUILDING CLASS CATEGORY         23941 non-null  object        \n",
      " 3   TAX CLASS AT PRESENT            27252 non-null  object        \n",
      " 4   BLOCK                           27395 non-null  int64         \n",
      " 5   LOT                             27395 non-null  int64         \n",
      " 6   EASE-MENT                       0 non-null      float64       \n",
      " 7   BUILDING CLASS AT PRESENT       27252 non-null  object        \n",
      " 8   ADDRESS                         27395 non-null  object        \n",
      " 9   APARTMENTNUMBER                 12825 non-null  object        \n",
      " 10  ZIP CODE                        27394 non-null  float64       \n",
      " 11  RESIDENTIAL UNITS               11023 non-null  float64       \n",
      " 12  COMMERCIAL UNITS                3433 non-null   float64       \n",
      " 13  TOTAL UNITS                     17691 non-null  float64       \n",
      " 14  LAND SQUARE FEET                4489 non-null   float64       \n",
      " 15  GROSS SQUARE FEET               4326 non-null   float64       \n",
      " 16  YEAR BUILT                      20954 non-null  float64       \n",
      " 17  TAX CLASS AT TIME OF SALE       27395 non-null  int64         \n",
      " 18  BUILDING CLASS AT TIME OF SALE  27395 non-null  object        \n",
      " 19  SALEPRICE                       19802 non-null  float64       \n",
      " 20  SALE DATE                       27395 non-null  datetime64[ns]\n",
      "dtypes: datetime64[ns](1), float64(9), int64(4), object(7)\n",
      "memory usage: 4.4+ MB\n"
     ]
    }
   ],
   "source": [
    "df[cat_vars] = df[cat_vars].apply(lambda x: x.str.strip())\n",
    "df.replace(\"\", np.nan, inplace=True)\n",
    "df.replace(0, np.nan, inplace=True)\n",
    "df.info()"
   ]
  },
  {
   "cell_type": "markdown",
   "metadata": {},
   "source": [
    "## Rename the column names by deleting the carriage return"
   ]
  },
  {
   "cell_type": "code",
   "execution_count": 172,
   "metadata": {},
   "outputs": [
    {
     "data": {
      "text/html": [
       "<div>\n",
       "<style scoped>\n",
       "    .dataframe tbody tr th:only-of-type {\n",
       "        vertical-align: middle;\n",
       "    }\n",
       "\n",
       "    .dataframe tbody tr th {\n",
       "        vertical-align: top;\n",
       "    }\n",
       "\n",
       "    .dataframe thead th {\n",
       "        text-align: right;\n",
       "    }\n",
       "</style>\n",
       "<table border=\"1\" class=\"dataframe\">\n",
       "  <thead>\n",
       "    <tr style=\"text-align: right;\">\n",
       "      <th></th>\n",
       "      <th>BOROUGH</th>\n",
       "      <th>NEIGHBORHOOD</th>\n",
       "      <th>BUILDING CLASS CATEGORY</th>\n",
       "      <th>TAX CLASS AT PRESENT</th>\n",
       "      <th>BLOCK</th>\n",
       "      <th>LOT</th>\n",
       "      <th>EASE-MENT</th>\n",
       "      <th>BUILDING CLASS AT PRESENT</th>\n",
       "      <th>ADDRESS</th>\n",
       "      <th>APARTMENTNUMBER</th>\n",
       "      <th>ZIP CODE</th>\n",
       "      <th>RESIDENTIAL UNITS</th>\n",
       "      <th>COMMERCIAL UNITS</th>\n",
       "      <th>TOTAL UNITS</th>\n",
       "      <th>LAND SQUARE FEET</th>\n",
       "      <th>GROSS SQUARE FEET</th>\n",
       "      <th>YEAR BUILT</th>\n",
       "      <th>TAX CLASS AT TIME OF SALE</th>\n",
       "      <th>BUILDING CLASS AT TIME OF SALE</th>\n",
       "      <th>SALEPRICE</th>\n",
       "      <th>SALE DATE</th>\n",
       "    </tr>\n",
       "  </thead>\n",
       "  <tbody>\n",
       "    <tr>\n",
       "      <th>0</th>\n",
       "      <td>1</td>\n",
       "      <td>NaN</td>\n",
       "      <td>13  CONDOS - ELEVATOR APARTMENTS</td>\n",
       "      <td>NaN</td>\n",
       "      <td>738</td>\n",
       "      <td>1306</td>\n",
       "      <td>NaN</td>\n",
       "      <td>NaN</td>\n",
       "      <td>345 WEST 14TH   STREET</td>\n",
       "      <td>NaN</td>\n",
       "      <td>10014.0</td>\n",
       "      <td>NaN</td>\n",
       "      <td>NaN</td>\n",
       "      <td>NaN</td>\n",
       "      <td>NaN</td>\n",
       "      <td>NaN</td>\n",
       "      <td>NaN</td>\n",
       "      <td>2</td>\n",
       "      <td>R4</td>\n",
       "      <td>2214693.0</td>\n",
       "      <td>2013-05-20</td>\n",
       "    </tr>\n",
       "    <tr>\n",
       "      <th>1</th>\n",
       "      <td>1</td>\n",
       "      <td>NaN</td>\n",
       "      <td>13  CONDOS - ELEVATOR APARTMENTS</td>\n",
       "      <td>NaN</td>\n",
       "      <td>738</td>\n",
       "      <td>1307</td>\n",
       "      <td>NaN</td>\n",
       "      <td>NaN</td>\n",
       "      <td>345 WEST 14TH   STREET</td>\n",
       "      <td>NaN</td>\n",
       "      <td>10014.0</td>\n",
       "      <td>NaN</td>\n",
       "      <td>NaN</td>\n",
       "      <td>NaN</td>\n",
       "      <td>NaN</td>\n",
       "      <td>NaN</td>\n",
       "      <td>NaN</td>\n",
       "      <td>2</td>\n",
       "      <td>R4</td>\n",
       "      <td>1654656.0</td>\n",
       "      <td>2013-05-16</td>\n",
       "    </tr>\n",
       "    <tr>\n",
       "      <th>2</th>\n",
       "      <td>1</td>\n",
       "      <td>NaN</td>\n",
       "      <td>13  CONDOS - ELEVATOR APARTMENTS</td>\n",
       "      <td>NaN</td>\n",
       "      <td>738</td>\n",
       "      <td>1308</td>\n",
       "      <td>NaN</td>\n",
       "      <td>NaN</td>\n",
       "      <td>345 WEST 14TH   STREET</td>\n",
       "      <td>NaN</td>\n",
       "      <td>10014.0</td>\n",
       "      <td>NaN</td>\n",
       "      <td>NaN</td>\n",
       "      <td>NaN</td>\n",
       "      <td>NaN</td>\n",
       "      <td>NaN</td>\n",
       "      <td>NaN</td>\n",
       "      <td>2</td>\n",
       "      <td>R4</td>\n",
       "      <td>1069162.0</td>\n",
       "      <td>2013-05-23</td>\n",
       "    </tr>\n",
       "    <tr>\n",
       "      <th>3</th>\n",
       "      <td>1</td>\n",
       "      <td>NaN</td>\n",
       "      <td>13  CONDOS - ELEVATOR APARTMENTS</td>\n",
       "      <td>NaN</td>\n",
       "      <td>738</td>\n",
       "      <td>1309</td>\n",
       "      <td>NaN</td>\n",
       "      <td>NaN</td>\n",
       "      <td>345 WEST 14TH   STREET</td>\n",
       "      <td>NaN</td>\n",
       "      <td>10014.0</td>\n",
       "      <td>NaN</td>\n",
       "      <td>NaN</td>\n",
       "      <td>NaN</td>\n",
       "      <td>NaN</td>\n",
       "      <td>NaN</td>\n",
       "      <td>NaN</td>\n",
       "      <td>2</td>\n",
       "      <td>R4</td>\n",
       "      <td>1374637.0</td>\n",
       "      <td>2013-05-15</td>\n",
       "    </tr>\n",
       "    <tr>\n",
       "      <th>4</th>\n",
       "      <td>1</td>\n",
       "      <td>NaN</td>\n",
       "      <td>13  CONDOS - ELEVATOR APARTMENTS</td>\n",
       "      <td>NaN</td>\n",
       "      <td>738</td>\n",
       "      <td>1310</td>\n",
       "      <td>NaN</td>\n",
       "      <td>NaN</td>\n",
       "      <td>345 WEST 14TH   STREET</td>\n",
       "      <td>NaN</td>\n",
       "      <td>10014.0</td>\n",
       "      <td>NaN</td>\n",
       "      <td>NaN</td>\n",
       "      <td>NaN</td>\n",
       "      <td>NaN</td>\n",
       "      <td>NaN</td>\n",
       "      <td>NaN</td>\n",
       "      <td>2</td>\n",
       "      <td>R4</td>\n",
       "      <td>1649565.0</td>\n",
       "      <td>2013-05-13</td>\n",
       "    </tr>\n",
       "  </tbody>\n",
       "</table>\n",
       "</div>"
      ],
      "text/plain": [
       "   BOROUGH NEIGHBORHOOD           BUILDING CLASS CATEGORY  \\\n",
       "0        1          NaN  13  CONDOS - ELEVATOR APARTMENTS   \n",
       "1        1          NaN  13  CONDOS - ELEVATOR APARTMENTS   \n",
       "2        1          NaN  13  CONDOS - ELEVATOR APARTMENTS   \n",
       "3        1          NaN  13  CONDOS - ELEVATOR APARTMENTS   \n",
       "4        1          NaN  13  CONDOS - ELEVATOR APARTMENTS   \n",
       "\n",
       "  TAX CLASS AT PRESENT  BLOCK   LOT  EASE-MENT BUILDING CLASS AT PRESENT  \\\n",
       "0                  NaN    738  1306        NaN                       NaN   \n",
       "1                  NaN    738  1307        NaN                       NaN   \n",
       "2                  NaN    738  1308        NaN                       NaN   \n",
       "3                  NaN    738  1309        NaN                       NaN   \n",
       "4                  NaN    738  1310        NaN                       NaN   \n",
       "\n",
       "                  ADDRESS APARTMENTNUMBER  ZIP CODE  RESIDENTIAL UNITS  \\\n",
       "0  345 WEST 14TH   STREET             NaN   10014.0                NaN   \n",
       "1  345 WEST 14TH   STREET             NaN   10014.0                NaN   \n",
       "2  345 WEST 14TH   STREET             NaN   10014.0                NaN   \n",
       "3  345 WEST 14TH   STREET             NaN   10014.0                NaN   \n",
       "4  345 WEST 14TH   STREET             NaN   10014.0                NaN   \n",
       "\n",
       "   COMMERCIAL UNITS  TOTAL UNITS  LAND SQUARE FEET  GROSS SQUARE FEET  \\\n",
       "0               NaN          NaN               NaN                NaN   \n",
       "1               NaN          NaN               NaN                NaN   \n",
       "2               NaN          NaN               NaN                NaN   \n",
       "3               NaN          NaN               NaN                NaN   \n",
       "4               NaN          NaN               NaN                NaN   \n",
       "\n",
       "   YEAR BUILT  TAX CLASS AT TIME OF SALE BUILDING CLASS AT TIME OF SALE  \\\n",
       "0         NaN                          2                             R4   \n",
       "1         NaN                          2                             R4   \n",
       "2         NaN                          2                             R4   \n",
       "3         NaN                          2                             R4   \n",
       "4         NaN                          2                             R4   \n",
       "\n",
       "   SALEPRICE  SALE DATE  \n",
       "0  2214693.0 2013-05-20  \n",
       "1  1654656.0 2013-05-16  \n",
       "2  1069162.0 2013-05-23  \n",
       "3  1374637.0 2013-05-15  \n",
       "4  1649565.0 2013-05-13  "
      ]
     },
     "execution_count": 172,
     "metadata": {},
     "output_type": "execute_result"
    }
   ],
   "source": [
    "df.head()"
   ]
  },
  {
   "cell_type": "code",
   "execution_count": 173,
   "metadata": {},
   "outputs": [
    {
     "data": {
      "text/plain": [
       "BOROUGH                               0\n",
       "NEIGHBORHOOD                         17\n",
       "BUILDING CLASS CATEGORY            3454\n",
       "TAX CLASS AT PRESENT                143\n",
       "BLOCK                                 0\n",
       "LOT                                   0\n",
       "EASE-MENT                         27395\n",
       "BUILDING CLASS AT PRESENT           143\n",
       "ADDRESS                               0\n",
       "APARTMENTNUMBER                   14570\n",
       "ZIP CODE                              1\n",
       "RESIDENTIAL UNITS                 16372\n",
       "COMMERCIAL UNITS                  23962\n",
       "TOTAL UNITS                        9704\n",
       "LAND SQUARE FEET                  22906\n",
       "GROSS SQUARE FEET                 23069\n",
       "YEAR BUILT                         6441\n",
       "TAX CLASS AT TIME OF SALE             0\n",
       "BUILDING CLASS AT TIME OF SALE        0\n",
       "SALEPRICE                          7593\n",
       "SALE DATE                             0\n",
       "dtype: int64"
      ]
     },
     "execution_count": 173,
     "metadata": {},
     "output_type": "execute_result"
    }
   ],
   "source": [
    "df.isnull().sum()"
   ]
  },
  {
   "cell_type": "code",
   "execution_count": 174,
   "metadata": {},
   "outputs": [
    {
     "data": {
      "text/plain": [
       "32"
      ]
     },
     "execution_count": 174,
     "metadata": {},
     "output_type": "execute_result"
    }
   ],
   "source": [
    "df['YEAR BUILT'].fillna(method='ffill', inplace=True)\n",
    "pd.DataFrame(df['BUILDING CLASS CATEGORY'].value_counts()).size"
   ]
  },
  {
   "cell_type": "code",
   "execution_count": 175,
   "metadata": {},
   "outputs": [],
   "source": [
    "df.drop(columns=['COMMERCIAL UNITS', 'RESIDENTIAL UNITS', 'LAND SQUARE FEET', 'GROSS SQUARE FEET', 'BOROUGH', 'EASE-MENT', 'APARTMENTNUMBER'], inplace=True)"
   ]
  },
  {
   "cell_type": "code",
   "execution_count": 176,
   "metadata": {},
   "outputs": [
    {
     "data": {
      "text/plain": [
       "Index(['NEIGHBORHOOD', 'BUILDING CLASS CATEGORY', 'TAX CLASS AT PRESENT',\n",
       "       'BLOCK', 'LOT', 'BUILDING CLASS AT PRESENT', 'ADDRESS', 'ZIP CODE',\n",
       "       'COMMERCIAL UNITS', 'TOTAL UNITS', 'LAND SQUARE FEET', 'YEAR BUILT',\n",
       "       'TAX CLASS AT TIME OF SALE', 'BUILDING CLASS AT TIME OF SALE',\n",
       "       'SALEPRICE', 'SALE DATE'],\n",
       "      dtype='object')"
      ]
     },
     "execution_count": 176,
     "metadata": {},
     "output_type": "execute_result"
    }
   ],
   "source": [
    "df.columns\n"
   ]
  },
  {
   "attachments": {},
   "cell_type": "markdown",
   "metadata": {},
   "source": [
    "Create list of categorical variables and another for the numerical variables"
   ]
  },
  {
   "cell_type": "code",
   "execution_count": 177,
   "metadata": {},
   "outputs": [],
   "source": [
    "\n",
    "# ADDRESS and BUILDING CLASS CATEGORY has more than one white spaces between words in some rows. Replace it with a single space for cleaner data\n",
    "df['ADDRESS'] = df['ADDRESS'].apply(lambda x: \" \".join(x.split()))"
   ]
  },
  {
   "cell_type": "code",
   "execution_count": 178,
   "metadata": {},
   "outputs": [
    {
     "data": {
      "text/html": [
       "<div>\n",
       "<style scoped>\n",
       "    .dataframe tbody tr th:only-of-type {\n",
       "        vertical-align: middle;\n",
       "    }\n",
       "\n",
       "    .dataframe tbody tr th {\n",
       "        vertical-align: top;\n",
       "    }\n",
       "\n",
       "    .dataframe thead th {\n",
       "        text-align: right;\n",
       "    }\n",
       "</style>\n",
       "<table border=\"1\" class=\"dataframe\">\n",
       "  <thead>\n",
       "    <tr style=\"text-align: right;\">\n",
       "      <th></th>\n",
       "      <th>BLOCK</th>\n",
       "      <th>LOT</th>\n",
       "      <th>ZIP CODE</th>\n",
       "      <th>COMMERCIAL UNITS</th>\n",
       "      <th>TOTAL UNITS</th>\n",
       "      <th>LAND SQUARE FEET</th>\n",
       "      <th>YEAR BUILT</th>\n",
       "      <th>TAX CLASS AT TIME OF SALE</th>\n",
       "      <th>SALEPRICE</th>\n",
       "    </tr>\n",
       "  </thead>\n",
       "  <tbody>\n",
       "    <tr>\n",
       "      <th>count</th>\n",
       "      <td>27395.000000</td>\n",
       "      <td>27395.000000</td>\n",
       "      <td>27394.000000</td>\n",
       "      <td>3433.000000</td>\n",
       "      <td>17691.000000</td>\n",
       "      <td>4489.000000</td>\n",
       "      <td>27378.000000</td>\n",
       "      <td>27395.000000</td>\n",
       "      <td>1.980200e+04</td>\n",
       "    </tr>\n",
       "    <tr>\n",
       "      <th>mean</th>\n",
       "      <td>1109.666728</td>\n",
       "      <td>741.789086</td>\n",
       "      <td>10029.226217</td>\n",
       "      <td>2.992426</td>\n",
       "      <td>3.545249</td>\n",
       "      <td>5893.466028</td>\n",
       "      <td>1955.316422</td>\n",
       "      <td>2.488118</td>\n",
       "      <td>2.556609e+06</td>\n",
       "    </tr>\n",
       "    <tr>\n",
       "      <th>std</th>\n",
       "      <td>465.994469</td>\n",
       "      <td>819.422424</td>\n",
       "      <td>34.966983</td>\n",
       "      <td>12.689861</td>\n",
       "      <td>19.482767</td>\n",
       "      <td>7884.729624</td>\n",
       "      <td>39.196918</td>\n",
       "      <td>0.891723</td>\n",
       "      <td>1.916295e+07</td>\n",
       "    </tr>\n",
       "    <tr>\n",
       "      <th>min</th>\n",
       "      <td>7.000000</td>\n",
       "      <td>1.000000</td>\n",
       "      <td>10001.000000</td>\n",
       "      <td>1.000000</td>\n",
       "      <td>1.000000</td>\n",
       "      <td>200.000000</td>\n",
       "      <td>1000.000000</td>\n",
       "      <td>1.000000</td>\n",
       "      <td>1.000000e+00</td>\n",
       "    </tr>\n",
       "    <tr>\n",
       "      <th>25%</th>\n",
       "      <td>877.000000</td>\n",
       "      <td>37.000000</td>\n",
       "      <td>10016.000000</td>\n",
       "      <td>1.000000</td>\n",
       "      <td>1.000000</td>\n",
       "      <td>2104.000000</td>\n",
       "      <td>1920.000000</td>\n",
       "      <td>2.000000</td>\n",
       "      <td>3.676662e+05</td>\n",
       "    </tr>\n",
       "    <tr>\n",
       "      <th>50%</th>\n",
       "      <td>1047.000000</td>\n",
       "      <td>1007.000000</td>\n",
       "      <td>10019.000000</td>\n",
       "      <td>2.000000</td>\n",
       "      <td>1.000000</td>\n",
       "      <td>5046.000000</td>\n",
       "      <td>1957.000000</td>\n",
       "      <td>2.000000</td>\n",
       "      <td>7.400000e+05</td>\n",
       "    </tr>\n",
       "    <tr>\n",
       "      <th>75%</th>\n",
       "      <td>1411.000000</td>\n",
       "      <td>1233.000000</td>\n",
       "      <td>10027.000000</td>\n",
       "      <td>2.000000</td>\n",
       "      <td>1.000000</td>\n",
       "      <td>7532.000000</td>\n",
       "      <td>2002.000000</td>\n",
       "      <td>4.000000</td>\n",
       "      <td>1.627399e+06</td>\n",
       "    </tr>\n",
       "    <tr>\n",
       "      <th>max</th>\n",
       "      <td>2250.000000</td>\n",
       "      <td>9117.000000</td>\n",
       "      <td>10463.000000</td>\n",
       "      <td>604.000000</td>\n",
       "      <td>1349.000000</td>\n",
       "      <td>213650.000000</td>\n",
       "      <td>2013.000000</td>\n",
       "      <td>4.000000</td>\n",
       "      <td>1.307965e+09</td>\n",
       "    </tr>\n",
       "  </tbody>\n",
       "</table>\n",
       "</div>"
      ],
      "text/plain": [
       "              BLOCK           LOT      ZIP CODE  COMMERCIAL UNITS  \\\n",
       "count  27395.000000  27395.000000  27394.000000       3433.000000   \n",
       "mean    1109.666728    741.789086  10029.226217          2.992426   \n",
       "std      465.994469    819.422424     34.966983         12.689861   \n",
       "min        7.000000      1.000000  10001.000000          1.000000   \n",
       "25%      877.000000     37.000000  10016.000000          1.000000   \n",
       "50%     1047.000000   1007.000000  10019.000000          2.000000   \n",
       "75%     1411.000000   1233.000000  10027.000000          2.000000   \n",
       "max     2250.000000   9117.000000  10463.000000        604.000000   \n",
       "\n",
       "        TOTAL UNITS  LAND SQUARE FEET    YEAR BUILT  \\\n",
       "count  17691.000000       4489.000000  27378.000000   \n",
       "mean       3.545249       5893.466028   1955.316422   \n",
       "std       19.482767       7884.729624     39.196918   \n",
       "min        1.000000        200.000000   1000.000000   \n",
       "25%        1.000000       2104.000000   1920.000000   \n",
       "50%        1.000000       5046.000000   1957.000000   \n",
       "75%        1.000000       7532.000000   2002.000000   \n",
       "max     1349.000000     213650.000000   2013.000000   \n",
       "\n",
       "       TAX CLASS AT TIME OF SALE     SALEPRICE  \n",
       "count               27395.000000  1.980200e+04  \n",
       "mean                    2.488118  2.556609e+06  \n",
       "std                     0.891723  1.916295e+07  \n",
       "min                     1.000000  1.000000e+00  \n",
       "25%                     2.000000  3.676662e+05  \n",
       "50%                     2.000000  7.400000e+05  \n",
       "75%                     4.000000  1.627399e+06  \n",
       "max                     4.000000  1.307965e+09  "
      ]
     },
     "execution_count": 178,
     "metadata": {},
     "output_type": "execute_result"
    }
   ],
   "source": [
    "df.describe()"
   ]
  },
  {
   "cell_type": "markdown",
   "metadata": {},
   "source": [
    "For each categorical variable, remove the spaces, and then replace the empty string '' by NaN."
   ]
  },
  {
   "cell_type": "code",
   "execution_count": 179,
   "metadata": {},
   "outputs": [
    {
     "data": {
      "text/html": [
       "<div>\n",
       "<style scoped>\n",
       "    .dataframe tbody tr th:only-of-type {\n",
       "        vertical-align: middle;\n",
       "    }\n",
       "\n",
       "    .dataframe tbody tr th {\n",
       "        vertical-align: top;\n",
       "    }\n",
       "\n",
       "    .dataframe thead th {\n",
       "        text-align: right;\n",
       "    }\n",
       "</style>\n",
       "<table border=\"1\" class=\"dataframe\">\n",
       "  <thead>\n",
       "    <tr style=\"text-align: right;\">\n",
       "      <th></th>\n",
       "      <th>BLOCK</th>\n",
       "      <th>LOT</th>\n",
       "      <th>ZIP CODE</th>\n",
       "      <th>COMMERCIAL UNITS</th>\n",
       "      <th>TOTAL UNITS</th>\n",
       "      <th>LAND SQUARE FEET</th>\n",
       "      <th>YEAR BUILT</th>\n",
       "      <th>TAX CLASS AT TIME OF SALE</th>\n",
       "      <th>SALEPRICE</th>\n",
       "    </tr>\n",
       "  </thead>\n",
       "  <tbody>\n",
       "    <tr>\n",
       "      <th>count</th>\n",
       "      <td>27394.000000</td>\n",
       "      <td>27394.000000</td>\n",
       "      <td>27393.000000</td>\n",
       "      <td>3433.000000</td>\n",
       "      <td>17691.000000</td>\n",
       "      <td>4488.000000</td>\n",
       "      <td>27377.000000</td>\n",
       "      <td>27394.000000</td>\n",
       "      <td>1.980200e+04</td>\n",
       "    </tr>\n",
       "    <tr>\n",
       "      <th>mean</th>\n",
       "      <td>1109.676900</td>\n",
       "      <td>741.813901</td>\n",
       "      <td>10029.227248</td>\n",
       "      <td>2.992426</td>\n",
       "      <td>3.545249</td>\n",
       "      <td>5894.209893</td>\n",
       "      <td>1955.351317</td>\n",
       "      <td>2.488063</td>\n",
       "      <td>2.556609e+06</td>\n",
       "    </tr>\n",
       "    <tr>\n",
       "      <th>std</th>\n",
       "      <td>465.999933</td>\n",
       "      <td>819.427086</td>\n",
       "      <td>34.967206</td>\n",
       "      <td>12.689861</td>\n",
       "      <td>19.482767</td>\n",
       "      <td>7885.450660</td>\n",
       "      <td>38.770045</td>\n",
       "      <td>0.891692</td>\n",
       "      <td>1.916295e+07</td>\n",
       "    </tr>\n",
       "    <tr>\n",
       "      <th>min</th>\n",
       "      <td>7.000000</td>\n",
       "      <td>1.000000</td>\n",
       "      <td>10001.000000</td>\n",
       "      <td>1.000000</td>\n",
       "      <td>1.000000</td>\n",
       "      <td>200.000000</td>\n",
       "      <td>1800.000000</td>\n",
       "      <td>1.000000</td>\n",
       "      <td>1.000000e+00</td>\n",
       "    </tr>\n",
       "    <tr>\n",
       "      <th>25%</th>\n",
       "      <td>877.000000</td>\n",
       "      <td>37.000000</td>\n",
       "      <td>10016.000000</td>\n",
       "      <td>1.000000</td>\n",
       "      <td>1.000000</td>\n",
       "      <td>2103.000000</td>\n",
       "      <td>1920.000000</td>\n",
       "      <td>2.000000</td>\n",
       "      <td>3.676662e+05</td>\n",
       "    </tr>\n",
       "    <tr>\n",
       "      <th>50%</th>\n",
       "      <td>1047.000000</td>\n",
       "      <td>1007.000000</td>\n",
       "      <td>10019.000000</td>\n",
       "      <td>2.000000</td>\n",
       "      <td>1.000000</td>\n",
       "      <td>5046.000000</td>\n",
       "      <td>1957.000000</td>\n",
       "      <td>2.000000</td>\n",
       "      <td>7.400000e+05</td>\n",
       "    </tr>\n",
       "    <tr>\n",
       "      <th>75%</th>\n",
       "      <td>1411.000000</td>\n",
       "      <td>1233.000000</td>\n",
       "      <td>10027.000000</td>\n",
       "      <td>2.000000</td>\n",
       "      <td>1.000000</td>\n",
       "      <td>7532.000000</td>\n",
       "      <td>2002.000000</td>\n",
       "      <td>4.000000</td>\n",
       "      <td>1.627399e+06</td>\n",
       "    </tr>\n",
       "    <tr>\n",
       "      <th>max</th>\n",
       "      <td>2250.000000</td>\n",
       "      <td>9117.000000</td>\n",
       "      <td>10463.000000</td>\n",
       "      <td>604.000000</td>\n",
       "      <td>1349.000000</td>\n",
       "      <td>213650.000000</td>\n",
       "      <td>2013.000000</td>\n",
       "      <td>4.000000</td>\n",
       "      <td>1.307965e+09</td>\n",
       "    </tr>\n",
       "  </tbody>\n",
       "</table>\n",
       "</div>"
      ],
      "text/plain": [
       "              BLOCK           LOT      ZIP CODE  COMMERCIAL UNITS  \\\n",
       "count  27394.000000  27394.000000  27393.000000       3433.000000   \n",
       "mean    1109.676900    741.813901  10029.227248          2.992426   \n",
       "std      465.999933    819.427086     34.967206         12.689861   \n",
       "min        7.000000      1.000000  10001.000000          1.000000   \n",
       "25%      877.000000     37.000000  10016.000000          1.000000   \n",
       "50%     1047.000000   1007.000000  10019.000000          2.000000   \n",
       "75%     1411.000000   1233.000000  10027.000000          2.000000   \n",
       "max     2250.000000   9117.000000  10463.000000        604.000000   \n",
       "\n",
       "        TOTAL UNITS  LAND SQUARE FEET    YEAR BUILT  \\\n",
       "count  17691.000000       4488.000000  27377.000000   \n",
       "mean       3.545249       5894.209893   1955.351317   \n",
       "std       19.482767       7885.450660     38.770045   \n",
       "min        1.000000        200.000000   1800.000000   \n",
       "25%        1.000000       2103.000000   1920.000000   \n",
       "50%        1.000000       5046.000000   1957.000000   \n",
       "75%        1.000000       7532.000000   2002.000000   \n",
       "max     1349.000000     213650.000000   2013.000000   \n",
       "\n",
       "       TAX CLASS AT TIME OF SALE     SALEPRICE  \n",
       "count               27394.000000  1.980200e+04  \n",
       "mean                    2.488063  2.556609e+06  \n",
       "std                     0.891692  1.916295e+07  \n",
       "min                     1.000000  1.000000e+00  \n",
       "25%                     2.000000  3.676662e+05  \n",
       "50%                     2.000000  7.400000e+05  \n",
       "75%                     4.000000  1.627399e+06  \n",
       "max                     4.000000  1.307965e+09  "
      ]
     },
     "execution_count": 179,
     "metadata": {},
     "output_type": "execute_result"
    }
   ],
   "source": [
    "df = df[df['YEAR BUILT']!=1000]\n",
    "df.describe()"
   ]
  },
  {
   "cell_type": "code",
   "execution_count": 180,
   "metadata": {},
   "outputs": [],
   "source": [
    "new_df = df[df['TOTAL UNITS'] < 80].dropna(subset=['TOTAL UNITS'])"
   ]
  },
  {
   "cell_type": "code",
   "execution_count": 181,
   "metadata": {},
   "outputs": [],
   "source": [
    "new_df['INDEX'] = np.arange(new_df.shape[0])\n"
   ]
  },
  {
   "cell_type": "code",
   "execution_count": 182,
   "metadata": {},
   "outputs": [
    {
     "data": {
      "text/plain": [
       "<AxesSubplot: xlabel='TOTAL UNITS', ylabel='INDEX'>"
      ]
     },
     "execution_count": 182,
     "metadata": {},
     "output_type": "execute_result"
    },
    {
     "data": {
      "image/png": "[encoded data removed]",
      "text/plain": [
       "<Figure size 640x480 with 1 Axes>"
      ]
     },
     "metadata": {},
     "output_type": "display_data"
    }
   ],
   "source": [
    "new_df.plot.scatter(x='TOTAL UNITS', y='INDEX')"
   ]
  },
  {
   "cell_type": "code",
   "execution_count": 183,
   "metadata": {},
   "outputs": [],
   "source": [
    "df = df[df['TOTAL UNITS'] < 50]"
   ]
  },
  {
   "cell_type": "markdown",
   "metadata": {},
   "source": [
    "Replace the zeros in Prices, Land squares, etc. by NaN"
   ]
  },
  {
   "attachments": {},
   "cell_type": "markdown",
   "metadata": {},
   "source": [
    "Show a summary of all missing values as well as the summary statistics"
   ]
  },
  {
   "cell_type": "code",
   "execution_count": 184,
   "metadata": {},
   "outputs": [
    {
     "name": "stdout",
     "output_type": "stream",
     "text": [
      "Summary of missing values:\n",
      " NEIGHBORHOOD                          0\n",
      "BUILDING CLASS CATEGORY            3434\n",
      "TAX CLASS AT PRESENT                  0\n",
      "BLOCK                                 0\n",
      "LOT                                   0\n",
      "BUILDING CLASS AT PRESENT             0\n",
      "ADDRESS                               0\n",
      "ZIP CODE                              0\n",
      "COMMERCIAL UNITS                  14181\n",
      "TOTAL UNITS                           0\n",
      "LAND SQUARE FEET                  13374\n",
      "YEAR BUILT                            0\n",
      "TAX CLASS AT TIME OF SALE             0\n",
      "BUILDING CLASS AT TIME OF SALE        0\n",
      "SALEPRICE                          6646\n",
      "SALE DATE                             0\n",
      "dtype: int64\n"
     ]
    }
   ],
   "source": [
    "print(\"Summary of missing values:\\n\", df.isnull().sum())"
   ]
  },
  {
   "cell_type": "code",
   "execution_count": 185,
   "metadata": {},
   "outputs": [
    {
     "name": "stdout",
     "output_type": "stream",
     "text": [
      "<class 'pandas.core.frame.DataFrame'>\n",
      "Int64Index: 17532 entries, 17 to 27386\n",
      "Data columns (total 16 columns):\n",
      " #   Column                          Non-Null Count  Dtype         \n",
      "---  ------                          --------------  -----         \n",
      " 0   NEIGHBORHOOD                    17532 non-null  object        \n",
      " 1   BUILDING CLASS CATEGORY         14098 non-null  object        \n",
      " 2   TAX CLASS AT PRESENT            17532 non-null  object        \n",
      " 3   BLOCK                           17532 non-null  int64         \n",
      " 4   LOT                             17532 non-null  int64         \n",
      " 5   BUILDING CLASS AT PRESENT       17532 non-null  object        \n",
      " 6   ADDRESS                         17532 non-null  object        \n",
      " 7   ZIP CODE                        17532 non-null  float64       \n",
      " 8   COMMERCIAL UNITS                3351 non-null   float64       \n",
      " 9   TOTAL UNITS                     17532 non-null  float64       \n",
      " 10  LAND SQUARE FEET                4158 non-null   float64       \n",
      " 11  YEAR BUILT                      17532 non-null  float64       \n",
      " 12  TAX CLASS AT TIME OF SALE       17532 non-null  int64         \n",
      " 13  BUILDING CLASS AT TIME OF SALE  17532 non-null  object        \n",
      " 14  SALEPRICE                       10886 non-null  float64       \n",
      " 15  SALE DATE                       17532 non-null  datetime64[ns]\n",
      "dtypes: datetime64[ns](1), float64(6), int64(3), object(6)\n",
      "memory usage: 2.3+ MB\n"
     ]
    }
   ],
   "source": [
    "df.info()"
   ]
  },
  {
   "cell_type": "code",
   "execution_count": 186,
   "metadata": {},
   "outputs": [
    {
     "data": {
      "text/plain": [
       "<AxesSubplot: xlabel='TOTAL UNITS', ylabel='SALEPRICE'>"
      ]
     },
     "execution_count": 186,
     "metadata": {},
     "output_type": "execute_result"
    },
    {
     "data": {
      "image/png": "[encoded data removed]",
      "text/plain": [
       "<Figure size 640x480 with 1 Axes>"
      ]
     },
     "metadata": {},
     "output_type": "display_data"
    }
   ],
   "source": [
    "df.plot.scatter(x='TOTAL UNITS', y='SALEPRICE')"
   ]
  },
  {
   "cell_type": "code",
   "execution_count": 187,
   "metadata": {},
   "outputs": [],
   "source": [
    "df = df[df['SALEPRICE'] < 4000000]"
   ]
  },
  {
   "cell_type": "code",
   "execution_count": 188,
   "metadata": {},
   "outputs": [
    {
     "data": {
      "text/plain": [
       "<AxesSubplot: ylabel='Frequency'>"
      ]
     },
     "execution_count": 188,
     "metadata": {},
     "output_type": "execute_result"
    },
    {
     "data": {
      "image/png": "[encoded data removed]",
      "text/plain": [
       "<Figure size 640x480 with 1 Axes>"
      ]
     },
     "metadata": {},
     "output_type": "display_data"
    }
   ],
   "source": [
    "df['YEAR BUILT'].plot.hist(bins=100)"
   ]
  },
  {
   "cell_type": "code",
   "execution_count": 189,
   "metadata": {},
   "outputs": [],
   "source": [
    "df = df[df['YEAR BUILT'] > 1900]"
   ]
  },
  {
   "attachments": {},
   "cell_type": "markdown",
   "metadata": {},
   "source": [
    "Drop duplicates if any"
   ]
  },
  {
   "cell_type": "code",
   "execution_count": 190,
   "metadata": {},
   "outputs": [
    {
     "data": {
      "text/plain": [
       "(8230, 16)"
      ]
     },
     "execution_count": 190,
     "metadata": {},
     "output_type": "execute_result"
    }
   ],
   "source": [
    "df.drop_duplicates(inplace=True)\n",
    "df.shape"
   ]
  },
  {
   "cell_type": "code",
   "execution_count": 191,
   "metadata": {},
   "outputs": [
    {
     "data": {
      "text/plain": [
       "NEIGHBORHOOD                         0\n",
       "BUILDING CLASS CATEGORY           1097\n",
       "TAX CLASS AT PRESENT                 0\n",
       "BLOCK                                0\n",
       "LOT                                  0\n",
       "BUILDING CLASS AT PRESENT            0\n",
       "ADDRESS                              0\n",
       "ZIP CODE                             0\n",
       "COMMERCIAL UNITS                  7227\n",
       "TOTAL UNITS                          0\n",
       "LAND SQUARE FEET                  7042\n",
       "YEAR BUILT                           0\n",
       "TAX CLASS AT TIME OF SALE            0\n",
       "BUILDING CLASS AT TIME OF SALE       0\n",
       "SALEPRICE                            0\n",
       "SALE DATE                            0\n",
       "dtype: int64"
      ]
     },
     "execution_count": 191,
     "metadata": {},
     "output_type": "execute_result"
    }
   ],
   "source": [
    "df.isnull().sum()"
   ]
  },
  {
   "cell_type": "code",
   "execution_count": 192,
   "metadata": {},
   "outputs": [
    {
     "name": "stdout",
     "output_type": "stream",
     "text": [
      "<class 'pandas.core.frame.DataFrame'>\n",
      "Int64Index: 8230 entries, 17 to 27379\n",
      "Data columns (total 16 columns):\n",
      " #   Column                          Non-Null Count  Dtype         \n",
      "---  ------                          --------------  -----         \n",
      " 0   NEIGHBORHOOD                    8230 non-null   object        \n",
      " 1   BUILDING CLASS CATEGORY         7133 non-null   object        \n",
      " 2   TAX CLASS AT PRESENT            8230 non-null   object        \n",
      " 3   BLOCK                           8230 non-null   int64         \n",
      " 4   LOT                             8230 non-null   int64         \n",
      " 5   BUILDING CLASS AT PRESENT       8230 non-null   object        \n",
      " 6   ADDRESS                         8230 non-null   object        \n",
      " 7   ZIP CODE                        8230 non-null   float64       \n",
      " 8   COMMERCIAL UNITS                1003 non-null   float64       \n",
      " 9   TOTAL UNITS                     8230 non-null   float64       \n",
      " 10  LAND SQUARE FEET                1188 non-null   float64       \n",
      " 11  YEAR BUILT                      8230 non-null   float64       \n",
      " 12  TAX CLASS AT TIME OF SALE       8230 non-null   int64         \n",
      " 13  BUILDING CLASS AT TIME OF SALE  8230 non-null   object        \n",
      " 14  SALEPRICE                       8230 non-null   float64       \n",
      " 15  SALE DATE                       8230 non-null   datetime64[ns]\n",
      "dtypes: datetime64[ns](1), float64(6), int64(3), object(6)\n",
      "memory usage: 1.1+ MB\n"
     ]
    }
   ],
   "source": [
    "df.info()"
   ]
  },
  {
   "cell_type": "code",
   "execution_count": 193,
   "metadata": {},
   "outputs": [
    {
     "data": {
      "text/html": [
       "<div>\n",
       "<style scoped>\n",
       "    .dataframe tbody tr th:only-of-type {\n",
       "        vertical-align: middle;\n",
       "    }\n",
       "\n",
       "    .dataframe tbody tr th {\n",
       "        vertical-align: top;\n",
       "    }\n",
       "\n",
       "    .dataframe thead th {\n",
       "        text-align: right;\n",
       "    }\n",
       "</style>\n",
       "<table border=\"1\" class=\"dataframe\">\n",
       "  <thead>\n",
       "    <tr style=\"text-align: right;\">\n",
       "      <th></th>\n",
       "      <th>BLOCK</th>\n",
       "      <th>LOT</th>\n",
       "      <th>ZIP CODE</th>\n",
       "      <th>COMMERCIAL UNITS</th>\n",
       "      <th>TOTAL UNITS</th>\n",
       "      <th>LAND SQUARE FEET</th>\n",
       "      <th>YEAR BUILT</th>\n",
       "      <th>TAX CLASS AT TIME OF SALE</th>\n",
       "      <th>SALEPRICE</th>\n",
       "    </tr>\n",
       "  </thead>\n",
       "  <tbody>\n",
       "    <tr>\n",
       "      <th>count</th>\n",
       "      <td>8230.000000</td>\n",
       "      <td>8230.000000</td>\n",
       "      <td>8230.000000</td>\n",
       "      <td>1003.000000</td>\n",
       "      <td>8230.000000</td>\n",
       "      <td>1188.000000</td>\n",
       "      <td>8230.00000</td>\n",
       "      <td>8230.000000</td>\n",
       "      <td>8.230000e+03</td>\n",
       "    </tr>\n",
       "    <tr>\n",
       "      <th>mean</th>\n",
       "      <td>1044.446537</td>\n",
       "      <td>1215.614824</td>\n",
       "      <td>10030.502552</td>\n",
       "      <td>1.927218</td>\n",
       "      <td>1.648117</td>\n",
       "      <td>5799.973064</td>\n",
       "      <td>1969.04192</td>\n",
       "      <td>2.552369</td>\n",
       "      <td>1.033776e+06</td>\n",
       "    </tr>\n",
       "    <tr>\n",
       "      <th>std</th>\n",
       "      <td>494.215687</td>\n",
       "      <td>856.727500</td>\n",
       "      <td>43.654230</td>\n",
       "      <td>1.721557</td>\n",
       "      <td>3.399637</td>\n",
       "      <td>3035.049342</td>\n",
       "      <td>38.96710</td>\n",
       "      <td>0.916022</td>\n",
       "      <td>9.725555e+05</td>\n",
       "    </tr>\n",
       "    <tr>\n",
       "      <th>min</th>\n",
       "      <td>15.000000</td>\n",
       "      <td>1.000000</td>\n",
       "      <td>10001.000000</td>\n",
       "      <td>1.000000</td>\n",
       "      <td>1.000000</td>\n",
       "      <td>469.000000</td>\n",
       "      <td>1901.00000</td>\n",
       "      <td>1.000000</td>\n",
       "      <td>1.000000e+00</td>\n",
       "    </tr>\n",
       "    <tr>\n",
       "      <th>25%</th>\n",
       "      <td>859.000000</td>\n",
       "      <td>1032.000000</td>\n",
       "      <td>10016.000000</td>\n",
       "      <td>2.000000</td>\n",
       "      <td>1.000000</td>\n",
       "      <td>2500.000000</td>\n",
       "      <td>1928.00000</td>\n",
       "      <td>2.000000</td>\n",
       "      <td>1.600000e+05</td>\n",
       "    </tr>\n",
       "    <tr>\n",
       "      <th>50%</th>\n",
       "      <td>1027.000000</td>\n",
       "      <td>1175.500000</td>\n",
       "      <td>10019.000000</td>\n",
       "      <td>2.000000</td>\n",
       "      <td>1.000000</td>\n",
       "      <td>7532.000000</td>\n",
       "      <td>1985.00000</td>\n",
       "      <td>2.000000</td>\n",
       "      <td>7.950000e+05</td>\n",
       "    </tr>\n",
       "    <tr>\n",
       "      <th>75%</th>\n",
       "      <td>1323.000000</td>\n",
       "      <td>1339.000000</td>\n",
       "      <td>10026.000000</td>\n",
       "      <td>2.000000</td>\n",
       "      <td>1.000000</td>\n",
       "      <td>7532.000000</td>\n",
       "      <td>2006.00000</td>\n",
       "      <td>4.000000</td>\n",
       "      <td>1.530000e+06</td>\n",
       "    </tr>\n",
       "    <tr>\n",
       "      <th>max</th>\n",
       "      <td>2238.000000</td>\n",
       "      <td>9046.000000</td>\n",
       "      <td>10463.000000</td>\n",
       "      <td>43.000000</td>\n",
       "      <td>49.000000</td>\n",
       "      <td>37305.000000</td>\n",
       "      <td>2013.00000</td>\n",
       "      <td>4.000000</td>\n",
       "      <td>3.995000e+06</td>\n",
       "    </tr>\n",
       "  </tbody>\n",
       "</table>\n",
       "</div>"
      ],
      "text/plain": [
       "             BLOCK          LOT      ZIP CODE  COMMERCIAL UNITS  TOTAL UNITS  \\\n",
       "count  8230.000000  8230.000000   8230.000000       1003.000000  8230.000000   \n",
       "mean   1044.446537  1215.614824  10030.502552          1.927218     1.648117   \n",
       "std     494.215687   856.727500     43.654230          1.721557     3.399637   \n",
       "min      15.000000     1.000000  10001.000000          1.000000     1.000000   \n",
       "25%     859.000000  1032.000000  10016.000000          2.000000     1.000000   \n",
       "50%    1027.000000  1175.500000  10019.000000          2.000000     1.000000   \n",
       "75%    1323.000000  1339.000000  10026.000000          2.000000     1.000000   \n",
       "max    2238.000000  9046.000000  10463.000000         43.000000    49.000000   \n",
       "\n",
       "       LAND SQUARE FEET  YEAR BUILT  TAX CLASS AT TIME OF SALE     SALEPRICE  \n",
       "count       1188.000000  8230.00000                8230.000000  8.230000e+03  \n",
       "mean        5799.973064  1969.04192                   2.552369  1.033776e+06  \n",
       "std         3035.049342    38.96710                   0.916022  9.725555e+05  \n",
       "min          469.000000  1901.00000                   1.000000  1.000000e+00  \n",
       "25%         2500.000000  1928.00000                   2.000000  1.600000e+05  \n",
       "50%         7532.000000  1985.00000                   2.000000  7.950000e+05  \n",
       "75%         7532.000000  2006.00000                   4.000000  1.530000e+06  \n",
       "max        37305.000000  2013.00000                   4.000000  3.995000e+06  "
      ]
     },
     "execution_count": 193,
     "metadata": {},
     "output_type": "execute_result"
    }
   ],
   "source": [
    "df.describe()"
   ]
  },
  {
   "attachments": {},
   "cell_type": "markdown",
   "metadata": {},
   "source": [
    "Drop rows with NaN values"
   ]
  },
  {
   "cell_type": "code",
   "execution_count": 194,
   "metadata": {},
   "outputs": [
    {
     "data": {
      "text/plain": [
       "(887, 16)"
      ]
     },
     "execution_count": 194,
     "metadata": {},
     "output_type": "execute_result"
    }
   ],
   "source": [
    "df.dropna(inplace=True)\n",
    "df.shape"
   ]
  },
  {
   "attachments": {},
   "cell_type": "markdown",
   "metadata": {},
   "source": [
    "Identify and remove outliers if any"
   ]
  },
  {
   "cell_type": "code",
   "execution_count": 195,
   "metadata": {},
   "outputs": [
    {
     "name": "stdout",
     "output_type": "stream",
     "text": [
      "\n",
      "Shape of the resulting dataframe: (887, 16)\n"
     ]
    }
   ],
   "source": [
    "print(\"\\nShape of the resulting dataframe:\", df.shape)\n"
   ]
  },
  {
   "attachments": {},
   "cell_type": "markdown",
   "metadata": {},
   "source": [
    "•\tConsider the log of the prices and normalise the data."
   ]
  },
  {
   "cell_type": "code",
   "execution_count": 196,
   "metadata": {},
   "outputs": [
    {
     "data": {
      "text/plain": [
       "<AxesSubplot: ylabel='Frequency'>"
      ]
     },
     "execution_count": 196,
     "metadata": {},
     "output_type": "execute_result"
    },
    {
     "data": {
      "image/png": "[encoded data removed]",
      "text/plain": [
       "<Figure size 640x480 with 1 Axes>"
      ]
     },
     "metadata": {},
     "output_type": "display_data"
    }
   ],
   "source": [
    "df['SALEPRICE'].plot.hist(bins=60)"
   ]
  },
  {
   "cell_type": "code",
   "execution_count": 165,
   "metadata": {},
   "outputs": [
    {
     "data": {
      "text/plain": [
       "<AxesSubplot: ylabel='Frequency'>"
      ]
     },
     "execution_count": 165,
     "metadata": {},
     "output_type": "execute_result"
    },
    {
     "data": {
      "image/png": "[encoded data removed]",
      "text/plain": [
       "<Figure size 640x480 with 1 Axes>"
      ]
     },
     "metadata": {},
     "output_type": "display_data"
    }
   ],
   "source": [
    "pd.DataFrame(np.log(df['SALEPRICE'])).plot.hist(bins=60)"
   ]
  },
  {
   "cell_type": "code",
   "execution_count": null,
   "metadata": {},
   "outputs": [],
   "source": []
  }
 ],
 "metadata": {
  "kernelspec": {
   "display_name": "Python 3 (ipykernel)",
   "language": "python",
   "name": "python3"
  },
  "language_info": {
   "codemirror_mode": {
    "name": "ipython",
    "version": 3
   },
   "file_extension": ".py",
   "mimetype": "text/x-python",
   "name": "python",
   "nbconvert_exporter": "python",
   "pygments_lexer": "ipython3",
   "version": "3.10.9"
  },
  "vscode": {
   "interpreter": {
    "hash": "d6e11ff7d04ba6e29ce357c983ef8bd505bb7d67c8c202b008a2bca7dea6b985"
   }
  }
 },
 "nbformat": 4,
 "nbformat_minor": 2
}
